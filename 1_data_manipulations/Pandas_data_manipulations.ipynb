{
 "cells": [
  {
   "cell_type": "markdown",
   "metadata": {},
   "source": [
    "You can find dataset description here https://archive.ics.uci.edu/ml/datasets/Student+Performance. Data is in \"Data Folder\" name \"student.zip\""
   ]
  },
  {
   "cell_type": "markdown",
   "metadata": {},
   "source": [
    "## How to complete this assignment"
   ]
  },
  {
   "cell_type": "markdown",
   "metadata": {},
   "source": [
    "First download the data and extract two tables from the link above. Then complete 9 graded tasks below, the score is given in brackets. Finally submit the resulting `.ipynb` file to rs-app Auto-test.\n",
    "- **Do not delete or rename the variables** given before the inscription '#your code here', they are needed for correct verification.\n",
    "- **Do not change the code** in the last Notebook cell, it is required for server side.\n",
    "- Your **Notebook must run completely without errors** in order to be graded! Please check everything before submission by going _Cell_ -> _Run All_"
   ]
  },
  {
   "cell_type": "markdown",
   "metadata": {},
   "source": [
    "## Here goes!"
   ]
  },
  {
   "cell_type": "markdown",
   "metadata": {},
   "source": [
    "### Import necessary libraries "
   ]
  },
  {
   "cell_type": "code",
   "execution_count": 2,
   "metadata": {},
   "outputs": [],
   "source": [
    "import pandas as pd"
   ]
  },
  {
   "cell_type": "markdown",
   "metadata": {},
   "source": [
    "### Read the data"
   ]
  },
  {
   "cell_type": "code",
   "execution_count": 3,
   "metadata": {},
   "outputs": [],
   "source": [
    "mat = pd.read_csv(\"student-mat.csv\", sep=\";\")\n",
    "por = pd.read_csv(\"student-por.csv\", sep=\";\")"
   ]
  },
  {
   "cell_type": "markdown",
   "metadata": {},
   "source": [
    "### Look at first five rows of table with students math grades. In all other tasks, unless otherwise stated, we use it."
   ]
  },
  {
   "cell_type": "code",
   "execution_count": 4,
   "metadata": {},
   "outputs": [
    {
     "output_type": "execute_result",
     "data": {
      "text/plain": [
       "  school sex  age address famsize Pstatus  Medu  Fedu     Mjob      Fjob  ...  \\\n",
       "0     GP   F   18       U     GT3       A     4     4  at_home   teacher  ...   \n",
       "1     GP   F   17       U     GT3       T     1     1  at_home     other  ...   \n",
       "2     GP   F   15       U     LE3       T     1     1  at_home     other  ...   \n",
       "3     GP   F   15       U     GT3       T     4     2   health  services  ...   \n",
       "4     GP   F   16       U     GT3       T     3     3    other     other  ...   \n",
       "\n",
       "  famrel freetime  goout  Dalc  Walc health absences  G1  G2  G3  \n",
       "0      4        3      4     1     1      3        6   5   6   6  \n",
       "1      5        3      3     1     1      3        4   5   5   6  \n",
       "2      4        3      2     2     3      3       10   7   8  10  \n",
       "3      3        2      2     1     1      5        2  15  14  15  \n",
       "4      4        3      2     1     2      5        4   6  10  10  \n",
       "\n",
       "[5 rows x 33 columns]"
      ],
      "text/html": "<div>\n<style scoped>\n    .dataframe tbody tr th:only-of-type {\n        vertical-align: middle;\n    }\n\n    .dataframe tbody tr th {\n        vertical-align: top;\n    }\n\n    .dataframe thead th {\n        text-align: right;\n    }\n</style>\n<table border=\"1\" class=\"dataframe\">\n  <thead>\n    <tr style=\"text-align: right;\">\n      <th></th>\n      <th>school</th>\n      <th>sex</th>\n      <th>age</th>\n      <th>address</th>\n      <th>famsize</th>\n      <th>Pstatus</th>\n      <th>Medu</th>\n      <th>Fedu</th>\n      <th>Mjob</th>\n      <th>Fjob</th>\n      <th>...</th>\n      <th>famrel</th>\n      <th>freetime</th>\n      <th>goout</th>\n      <th>Dalc</th>\n      <th>Walc</th>\n      <th>health</th>\n      <th>absences</th>\n      <th>G1</th>\n      <th>G2</th>\n      <th>G3</th>\n    </tr>\n  </thead>\n  <tbody>\n    <tr>\n      <th>0</th>\n      <td>GP</td>\n      <td>F</td>\n      <td>18</td>\n      <td>U</td>\n      <td>GT3</td>\n      <td>A</td>\n      <td>4</td>\n      <td>4</td>\n      <td>at_home</td>\n      <td>teacher</td>\n      <td>...</td>\n      <td>4</td>\n      <td>3</td>\n      <td>4</td>\n      <td>1</td>\n      <td>1</td>\n      <td>3</td>\n      <td>6</td>\n      <td>5</td>\n      <td>6</td>\n      <td>6</td>\n    </tr>\n    <tr>\n      <th>1</th>\n      <td>GP</td>\n      <td>F</td>\n      <td>17</td>\n      <td>U</td>\n      <td>GT3</td>\n      <td>T</td>\n      <td>1</td>\n      <td>1</td>\n      <td>at_home</td>\n      <td>other</td>\n      <td>...</td>\n      <td>5</td>\n      <td>3</td>\n      <td>3</td>\n      <td>1</td>\n      <td>1</td>\n      <td>3</td>\n      <td>4</td>\n      <td>5</td>\n      <td>5</td>\n      <td>6</td>\n    </tr>\n    <tr>\n      <th>2</th>\n      <td>GP</td>\n      <td>F</td>\n      <td>15</td>\n      <td>U</td>\n      <td>LE3</td>\n      <td>T</td>\n      <td>1</td>\n      <td>1</td>\n      <td>at_home</td>\n      <td>other</td>\n      <td>...</td>\n      <td>4</td>\n      <td>3</td>\n      <td>2</td>\n      <td>2</td>\n      <td>3</td>\n      <td>3</td>\n      <td>10</td>\n      <td>7</td>\n      <td>8</td>\n      <td>10</td>\n    </tr>\n    <tr>\n      <th>3</th>\n      <td>GP</td>\n      <td>F</td>\n      <td>15</td>\n      <td>U</td>\n      <td>GT3</td>\n      <td>T</td>\n      <td>4</td>\n      <td>2</td>\n      <td>health</td>\n      <td>services</td>\n      <td>...</td>\n      <td>3</td>\n      <td>2</td>\n      <td>2</td>\n      <td>1</td>\n      <td>1</td>\n      <td>5</td>\n      <td>2</td>\n      <td>15</td>\n      <td>14</td>\n      <td>15</td>\n    </tr>\n    <tr>\n      <th>4</th>\n      <td>GP</td>\n      <td>F</td>\n      <td>16</td>\n      <td>U</td>\n      <td>GT3</td>\n      <td>T</td>\n      <td>3</td>\n      <td>3</td>\n      <td>other</td>\n      <td>other</td>\n      <td>...</td>\n      <td>4</td>\n      <td>3</td>\n      <td>2</td>\n      <td>1</td>\n      <td>2</td>\n      <td>5</td>\n      <td>4</td>\n      <td>6</td>\n      <td>10</td>\n      <td>10</td>\n    </tr>\n  </tbody>\n</table>\n<p>5 rows × 33 columns</p>\n</div>"
     },
     "metadata": {},
     "execution_count": 4
    }
   ],
   "source": [
    "mat.head()"
   ]
  },
  {
   "cell_type": "markdown",
   "metadata": {},
   "source": [
    "**Task 1 (0.25 points).** Count number of boys and girls in the dataset."
   ]
  },
  {
   "cell_type": "code",
   "execution_count": 5,
   "metadata": {},
   "outputs": [
    {
     "output_type": "stream",
     "name": "stdout",
     "text": [
      "187 208\n"
     ]
    }
   ],
   "source": [
    "girls,boys = mat['sex'].value_counts()\n",
    "print(boys,girls)"
   ]
  },
  {
   "cell_type": "markdown",
   "metadata": {},
   "source": [
    "**Task 2 (0.25 points).** Count number of 17 year old students having math grade G3 between 10 and 15 inclusively "
   ]
  },
  {
   "cell_type": "code",
   "execution_count": 6,
   "metadata": {},
   "outputs": [
    {
     "output_type": "execute_result",
     "data": {
      "text/plain": [
       "59"
      ]
     },
     "metadata": {},
     "execution_count": 6
    }
   ],
   "source": [
    "age = mat['age']==17\n",
    "g3v1 = mat['G3']<=15\n",
    "g3v2 = mat['G3']>=10\n",
    "students_17_year_old = len(mat.loc[age & g3v1 & g3v2])\n",
    "students_17_year_old"
   ]
  },
  {
   "cell_type": "markdown",
   "metadata": {},
   "source": [
    "**Task 3 (0.5 points).** List top-10 students having biggest average grade (G1, G2, G3)  in math. Count number of boys from that list."
   ]
  },
  {
   "cell_type": "code",
   "execution_count": 16,
   "metadata": {},
   "outputs": [
    {
     "output_type": "execute_result",
     "data": {
      "text/plain": [
       "6"
      ]
     },
     "metadata": {},
     "execution_count": 16
    }
   ],
   "source": [
    "tbl = mat\n",
    "def avr(row):\n",
    "    return (row['G1']+row['G2']+row['G3'])/3\n",
    "averageG = tbl.apply(avr, axis='columns')\n",
    "tbl['averageG'] = averageG\n",
    "tbl10 = tbl.sort_values(by='averageG', ascending=False).iloc[0:10]\n",
    "tbl10boys = tbl10.loc[tbl10['sex']=='M']\n",
    "boys_from_top_10 = len(tbl10boys)\n",
    "boys_from_top_10"
   ]
  },
  {
   "cell_type": "markdown",
   "metadata": {},
   "source": [
    "**Task 4 (1 point).** Count mean and standard deviation of absences for students with romantic relationship and access to internet"
   ]
  },
  {
   "cell_type": "code",
   "execution_count": 8,
   "metadata": {},
   "outputs": [
    {
     "output_type": "stream",
     "name": "stdout",
     "text": [
      "8.155172413793103 11.25329203873895\n"
     ]
    }
   ],
   "source": [
    "inet = mat['internet']=='yes'\n",
    "rom = mat['romantic']=='yes'\n",
    "absences = mat['absences'][inet & rom]\n",
    "std = absences.std()\n",
    "mean = absences.mean()\n",
    "print(mean,std)\n",
    "#mean, std = # your code here"
   ]
  },
  {
   "cell_type": "markdown",
   "metadata": {},
   "source": [
    "**Task 5 (1.5 points).** Count number of students for each existing age. Return array with counts sorted by students age in ascending order."
   ]
  },
  {
   "cell_type": "markdown",
   "metadata": {},
   "source": [
    "Note: On 0 index in array we have number of 15 year old students, on 1st index number of 16 year old students, ..."
   ]
  },
  {
   "cell_type": "code",
   "execution_count": 22,
   "metadata": {},
   "outputs": [
    {
     "output_type": "stream",
     "name": "stdout",
     "text": [
      "15     82\n16    104\n17     98\n18     82\n19     24\n20      3\n21      1\n22      1\nName: age, dtype: int64\n"
     ]
    },
    {
     "output_type": "execute_result",
     "data": {
      "text/plain": [
       "[82, 104, 98, 82, 24, 3, 1, 1]"
      ]
     },
     "metadata": {},
     "execution_count": 22
    }
   ],
   "source": [
    "age = mat['age'].value_counts().sort_index()\n",
    "student_counts_for_each_age = list(age)\n",
    "print(age)\n",
    "student_counts_for_each_age"
   ]
  },
  {
   "cell_type": "markdown",
   "metadata": {},
   "source": [
    "**Task 6* (2 points).** Find most frequent pair (Fjob, Mjob) of students from math grade table."
   ]
  },
  {
   "cell_type": "markdown",
   "metadata": {},
   "source": [
    "Note 1: Do not take student into account if at least one of parents job name is \"other\". <br>\n",
    "Note 2: Pairs (Fjob: teacher, Mjob: at_home) and (Fjob: at_home, Mjob: teacher) are different and their occurrences should be counted separately."
   ]
  },
  {
   "cell_type": "markdown",
   "metadata": {},
   "source": [
    "Hint: groupby (Fjob, Mjob), count rows, descending sort by count, reset_index, take first row values."
   ]
  },
  {
   "cell_type": "code",
   "execution_count": 10,
   "metadata": {},
   "outputs": [
    {
     "output_type": "stream",
     "name": "stdout",
     "text": [
      "services services\n"
     ]
    }
   ],
   "source": [
    "Mjob = mat['Mjob']!= \"other\"\n",
    "Fjob = mat['Fjob']!= \"other\"\n",
    "tbl = mat.loc[Mjob & Fjob] #remove \"other\"\n",
    "def MFjobPair (row):\n",
    "    return ( row['Mjob'],row['Fjob'] )\n",
    "MFjob = tbl.apply(MFjobPair, axis='columns')\n",
    "\n",
    "mother,father = MFjob.value_counts().sort_values(ascending=False).index.tolist()[0]\n",
    "print (father, mother)\n",
    "#father, mother = [[]]# your code here"
   ]
  },
  {
   "cell_type": "markdown",
   "metadata": {},
   "source": [
    "**Task 7 (1 point).** Count number of students presenting both in mat and por tables."
   ]
  },
  {
   "cell_type": "markdown",
   "metadata": {},
   "source": [
    "_Note 1_: That's a pity that tables haven't foreign keys for joining together. The uniqueness of the student is determined by the uniqueness of the set of all fields except subject fields (G1, G2, G3). <br>\n",
    "_Note 2_: Finally you'd better to come up with table having all student personal information and non-null grades in math [\"G1_mat\", \"G2_mat\", \"G3_mat\"] and [\"G1_por\", \"G2_por\", \"G3_por\"]. Joined dataframe could be useful for further usage. <br>\n",
    "Note 3: probably you would like to use \"merge\" to avoid duplicating column names from right and left dataframe."
   ]
  },
  {
   "cell_type": "code",
   "execution_count": 11,
   "metadata": {},
   "outputs": [
    {
     "output_type": "execute_result",
     "data": {
      "text/plain": [
       "39"
      ]
     },
     "metadata": {},
     "execution_count": 11
    }
   ],
   "source": [
    "#matD = mat.drop(columns=['G1', 'G2', 'G3','averageG'])\n",
    "#porD = por.drop(columns=['G1', 'G2', 'G3'])\n",
    "colList = mat.columns.tolist()[0:30]\n",
    "matpor = pd.merge(mat, por, how='inner', on=colList)\n",
    "both_present = len(matpor)# your code here\n",
    "both_present"
   ]
  },
  {
   "cell_type": "markdown",
   "metadata": {},
   "source": [
    "**Task 8 (1.5 points).** Find absolute differences between average mat and por student final grades for each school (GP & MS)"
   ]
  },
  {
   "cell_type": "code",
   "execution_count": 12,
   "metadata": {},
   "outputs": [
    {
     "output_type": "execute_result",
     "data": {
      "text/plain": [
       "(2.0868608045953643, 0.8026163909195851)"
      ]
     },
     "metadata": {},
     "execution_count": 12
    }
   ],
   "source": [
    "\n",
    "matGP = mat.loc[(mat['school']== \"GP\")]['G3'].mean()\n",
    "matMS = mat.loc[(mat['school']== \"MS\")]['G3'].mean()\n",
    "porGP = por.loc[(por['school']== \"GP\")]['G3'].mean()\n",
    "porMS = por.loc[(por['school']== \"MS\")]['G3'].mean()\n",
    "GP_diff, MS_diff = [abs(matGP-porGP),abs(matMS-porMS)]\n",
    "GP_diff, MS_diff\n",
    "#GP_diff, MS_diff = [[]]# your code here"
   ]
  },
  {
   "cell_type": "markdown",
   "metadata": {},
   "source": [
    "**Task 9* (2 points).** Find top-5 linearly dependent pairs of numeric student features from mat table."
   ]
  },
  {
   "cell_type": "markdown",
   "metadata": {},
   "source": [
    "_Note 1_: Use absolute Peason correlation value for measuring the linear relationship between features."
   ]
  },
  {
   "cell_type": "markdown",
   "metadata": {},
   "source": [
    "Correlation coefficients are used in statistics to measure how strong a relationship is between two variables. There are several types of correlation coefficients, but the most popular is Pearson’s. It can take value from -1 to 1 inclusive. \n",
    " - A correlation coefficient of 1 means that for every positive increase in one variable, there is a positive increase of a fixed proportion in the other. For example, shoe sizes go up in (almost) perfect correlation with foot length.\n",
    " - A correlation coefficient of -1 means that for every positive increase in one variable, there is a negative decrease of a fixed proportion in the other. For example, the amount of gas in a tank decreases in (almost) perfect correlation with speed.\n",
    " - Zero means that for every increase of one variable we do not expect always increase or decrease of another variable. It is not a proof, that variables are not related with each other. That only means NO LINEAR relationship between them. Suppose we have variables x and y connected by a sinusoidal law $y=sin(x)$. There is obvious no linear relationship between them (for $x \\in [0, \\frac{\\pi}{2}]$ y increases unevenly ant later for $x \\in [\\frac{\\pi}{2}, \\pi]$ y decreases unevenly). Even though they relate to each other by more complex law.\n",
    " \n",
    "More mathematical explanation https://en.wikipedia.org/wiki/Correlation_and_dependence."
   ]
  },
  {
   "cell_type": "code",
   "execution_count": 13,
   "metadata": {},
   "outputs": [
    {
     "output_type": "display_data",
     "data": {
      "text/plain": "<Figure size 432x288 with 2 Axes>",
      "image/svg+xml": "<?xml version=\"1.0\" encoding=\"utf-8\" standalone=\"no\"?>\r\n<!DOCTYPE svg PUBLIC \"-//W3C//DTD SVG 1.1//EN\"\r\n  \"http://www.w3.org/Graphics/SVG/1.1/DTD/svg11.dtd\">\r\n<!-- Created with matplotlib (https://matplotlib.org/) -->\r\n<svg height=\"277.314375pt\" version=\"1.1\" viewBox=\"0 0 569.38875 277.314375\" width=\"569.38875pt\" xmlns=\"http://www.w3.org/2000/svg\" xmlns:xlink=\"http://www.w3.org/1999/xlink\">\r\n <metadata>\r\n  <rdf:RDF xmlns:cc=\"http://creativecommons.org/ns#\" xmlns:dc=\"http://purl.org/dc/elements/1.1/\" xmlns:rdf=\"http://www.w3.org/1999/02/22-rdf-syntax-ns#\">\r\n   <cc:Work>\r\n    <dc:type rdf:resource=\"http://purl.org/dc/dcmitype/StillImage\"/>\r\n    <dc:date>2021-02-01T15:51:38.346517</dc:date>\r\n    <dc:format>image/svg+xml</dc:format>\r\n    <dc:creator>\r\n     <cc:Agent>\r\n      <dc:title>Matplotlib v3.3.2, https://matplotlib.org/</dc:title>\r\n     </cc:Agent>\r\n    </dc:creator>\r\n   </cc:Work>\r\n  </rdf:RDF>\r\n </metadata>\r\n <defs>\r\n  <style type=\"text/css\">*{stroke-linecap:butt;stroke-linejoin:round;}</style>\r\n </defs>\r\n <g id=\"figure_1\">\r\n  <g id=\"patch_1\">\r\n   <path d=\"M 0 277.314375 \r\nL 569.38875 277.314375 \r\nL 569.38875 0 \r\nL 0 0 \r\nz\r\n\" style=\"fill:none;\"/>\r\n  </g>\r\n  <g id=\"axes_1\">\r\n   <g id=\"patch_2\">\r\n    <path d=\"M 117.294375 94.798125 \r\nL 452.094375 94.798125 \r\nL 452.094375 22.318125 \r\nL 117.294375 22.318125 \r\nz\r\n\" style=\"fill:#ffffff;\"/>\r\n   </g>\r\n   <g id=\"PathCollection_1\">\r\n    <defs>\r\n     <path d=\"M 0 3 \r\nC 0.795609 3 1.55874 2.683901 2.12132 2.12132 \r\nC 2.683901 1.55874 3 0.795609 3 0 \r\nC 3 -0.795609 2.683901 -1.55874 2.12132 -2.12132 \r\nC 1.55874 -2.683901 0.795609 -3 0 -3 \r\nC -0.795609 -3 -1.55874 -2.683901 -2.12132 -2.12132 \r\nC -2.683901 -1.55874 -3 -0.795609 -3 0 \r\nC -3 0.795609 -2.683901 1.55874 -2.12132 2.12132 \r\nC -1.55874 2.683901 -0.795609 3 0 3 \r\nz\r\n\" id=\"m267fcc6301\" style=\"stroke:#1f77b4;\"/>\r\n    </defs>\r\n    <g clip-path=\"url(#p946ac243ca)\">\r\n     <use style=\"fill:#1f77b4;stroke:#1f77b4;\" x=\"132.512557\" xlink:href=\"#m267fcc6301\" y=\"25.61267\"/>\r\n     <use style=\"fill:#1f77b4;stroke:#1f77b4;\" x=\"142.330739\" xlink:href=\"#m267fcc6301\" y=\"27.738184\"/>\r\n     <use style=\"fill:#1f77b4;stroke:#1f77b4;\" x=\"152.14892\" xlink:href=\"#m267fcc6301\" y=\"29.863697\"/>\r\n     <use style=\"fill:#1f77b4;stroke:#1f77b4;\" x=\"161.967102\" xlink:href=\"#m267fcc6301\" y=\"31.98921\"/>\r\n     <use style=\"fill:#1f77b4;stroke:#1f77b4;\" x=\"171.785284\" xlink:href=\"#m267fcc6301\" y=\"34.114723\"/>\r\n     <use style=\"fill:#1f77b4;stroke:#1f77b4;\" x=\"181.603466\" xlink:href=\"#m267fcc6301\" y=\"36.240236\"/>\r\n     <use style=\"fill:#1f77b4;stroke:#1f77b4;\" x=\"191.421648\" xlink:href=\"#m267fcc6301\" y=\"38.36575\"/>\r\n     <use style=\"fill:#1f77b4;stroke:#1f77b4;\" x=\"201.23983\" xlink:href=\"#m267fcc6301\" y=\"40.491263\"/>\r\n     <use style=\"fill:#1f77b4;stroke:#1f77b4;\" x=\"211.058011\" xlink:href=\"#m267fcc6301\" y=\"42.616776\"/>\r\n     <use style=\"fill:#1f77b4;stroke:#1f77b4;\" x=\"220.876193\" xlink:href=\"#m267fcc6301\" y=\"44.742289\"/>\r\n     <use style=\"fill:#1f77b4;stroke:#1f77b4;\" x=\"230.694375\" xlink:href=\"#m267fcc6301\" y=\"46.867802\"/>\r\n     <use style=\"fill:#1f77b4;stroke:#1f77b4;\" x=\"240.512557\" xlink:href=\"#m267fcc6301\" y=\"48.993316\"/>\r\n     <use style=\"fill:#1f77b4;stroke:#1f77b4;\" x=\"250.330739\" xlink:href=\"#m267fcc6301\" y=\"51.118829\"/>\r\n     <use style=\"fill:#1f77b4;stroke:#1f77b4;\" x=\"260.14892\" xlink:href=\"#m267fcc6301\" y=\"53.244342\"/>\r\n     <use style=\"fill:#1f77b4;stroke:#1f77b4;\" x=\"269.967102\" xlink:href=\"#m267fcc6301\" y=\"55.369855\"/>\r\n     <use style=\"fill:#1f77b4;stroke:#1f77b4;\" x=\"279.785284\" xlink:href=\"#m267fcc6301\" y=\"57.495368\"/>\r\n     <use style=\"fill:#1f77b4;stroke:#1f77b4;\" x=\"289.603466\" xlink:href=\"#m267fcc6301\" y=\"59.620882\"/>\r\n     <use style=\"fill:#1f77b4;stroke:#1f77b4;\" x=\"299.421648\" xlink:href=\"#m267fcc6301\" y=\"61.746395\"/>\r\n     <use style=\"fill:#1f77b4;stroke:#1f77b4;\" x=\"309.23983\" xlink:href=\"#m267fcc6301\" y=\"63.871908\"/>\r\n     <use style=\"fill:#1f77b4;stroke:#1f77b4;\" x=\"319.058011\" xlink:href=\"#m267fcc6301\" y=\"65.997421\"/>\r\n     <use style=\"fill:#1f77b4;stroke:#1f77b4;\" x=\"328.876193\" xlink:href=\"#m267fcc6301\" y=\"68.122934\"/>\r\n     <use style=\"fill:#1f77b4;stroke:#1f77b4;\" x=\"338.694375\" xlink:href=\"#m267fcc6301\" y=\"70.248448\"/>\r\n     <use style=\"fill:#1f77b4;stroke:#1f77b4;\" x=\"348.512557\" xlink:href=\"#m267fcc6301\" y=\"72.373961\"/>\r\n     <use style=\"fill:#1f77b4;stroke:#1f77b4;\" x=\"358.330739\" xlink:href=\"#m267fcc6301\" y=\"74.499474\"/>\r\n     <use style=\"fill:#1f77b4;stroke:#1f77b4;\" x=\"368.14892\" xlink:href=\"#m267fcc6301\" y=\"76.624987\"/>\r\n     <use style=\"fill:#1f77b4;stroke:#1f77b4;\" x=\"377.967102\" xlink:href=\"#m267fcc6301\" y=\"78.7505\"/>\r\n     <use style=\"fill:#1f77b4;stroke:#1f77b4;\" x=\"387.785284\" xlink:href=\"#m267fcc6301\" y=\"80.876014\"/>\r\n     <use style=\"fill:#1f77b4;stroke:#1f77b4;\" x=\"397.603466\" xlink:href=\"#m267fcc6301\" y=\"83.001527\"/>\r\n     <use style=\"fill:#1f77b4;stroke:#1f77b4;\" x=\"407.421648\" xlink:href=\"#m267fcc6301\" y=\"85.12704\"/>\r\n     <use style=\"fill:#1f77b4;stroke:#1f77b4;\" x=\"417.23983\" xlink:href=\"#m267fcc6301\" y=\"87.252553\"/>\r\n     <use style=\"fill:#1f77b4;stroke:#1f77b4;\" x=\"427.058011\" xlink:href=\"#m267fcc6301\" y=\"89.378066\"/>\r\n     <use style=\"fill:#1f77b4;stroke:#1f77b4;\" x=\"436.876193\" xlink:href=\"#m267fcc6301\" y=\"91.50358\"/>\r\n    </g>\r\n   </g>\r\n   <g id=\"matplotlib.axis_1\">\r\n    <g id=\"xtick_1\">\r\n     <g id=\"line2d_1\">\r\n      <defs>\r\n       <path d=\"M 0 0 \r\nL 0 3.5 \r\n\" id=\"mf16a0e54e1\" style=\"stroke:#000000;stroke-width:0.8;\"/>\r\n      </defs>\r\n      <g>\r\n       <use style=\"stroke:#000000;stroke-width:0.8;\" x=\"132.512557\" xlink:href=\"#mf16a0e54e1\" y=\"94.798125\"/>\r\n      </g>\r\n     </g>\r\n     <g id=\"text_1\">\r\n      <!-- 0.0 -->\r\n      <g transform=\"translate(124.560994 109.396562)scale(0.1 -0.1)\">\r\n       <defs>\r\n        <path d=\"M 31.78125 66.40625 \r\nQ 24.171875 66.40625 20.328125 58.90625 \r\nQ 16.5 51.421875 16.5 36.375 \r\nQ 16.5 21.390625 20.328125 13.890625 \r\nQ 24.171875 6.390625 31.78125 6.390625 \r\nQ 39.453125 6.390625 43.28125 13.890625 \r\nQ 47.125 21.390625 47.125 36.375 \r\nQ 47.125 51.421875 43.28125 58.90625 \r\nQ 39.453125 66.40625 31.78125 66.40625 \r\nz\r\nM 31.78125 74.21875 \r\nQ 44.046875 74.21875 50.515625 64.515625 \r\nQ 56.984375 54.828125 56.984375 36.375 \r\nQ 56.984375 17.96875 50.515625 8.265625 \r\nQ 44.046875 -1.421875 31.78125 -1.421875 \r\nQ 19.53125 -1.421875 13.0625 8.265625 \r\nQ 6.59375 17.96875 6.59375 36.375 \r\nQ 6.59375 54.828125 13.0625 64.515625 \r\nQ 19.53125 74.21875 31.78125 74.21875 \r\nz\r\n\" id=\"DejaVuSans-48\"/>\r\n        <path d=\"M 10.6875 12.40625 \r\nL 21 12.40625 \r\nL 21 0 \r\nL 10.6875 0 \r\nz\r\n\" id=\"DejaVuSans-46\"/>\r\n       </defs>\r\n       <use xlink:href=\"#DejaVuSans-48\"/>\r\n       <use x=\"63.623047\" xlink:href=\"#DejaVuSans-46\"/>\r\n       <use x=\"95.410156\" xlink:href=\"#DejaVuSans-48\"/>\r\n      </g>\r\n     </g>\r\n    </g>\r\n    <g id=\"xtick_2\">\r\n     <g id=\"line2d_2\">\r\n      <g>\r\n       <use style=\"stroke:#000000;stroke-width:0.8;\" x=\"181.603466\" xlink:href=\"#mf16a0e54e1\" y=\"94.798125\"/>\r\n      </g>\r\n     </g>\r\n     <g id=\"text_2\">\r\n      <!-- 0.5 -->\r\n      <g transform=\"translate(173.651903 109.396562)scale(0.1 -0.1)\">\r\n       <defs>\r\n        <path d=\"M 10.796875 72.90625 \r\nL 49.515625 72.90625 \r\nL 49.515625 64.59375 \r\nL 19.828125 64.59375 \r\nL 19.828125 46.734375 \r\nQ 21.96875 47.46875 24.109375 47.828125 \r\nQ 26.265625 48.1875 28.421875 48.1875 \r\nQ 40.625 48.1875 47.75 41.5 \r\nQ 54.890625 34.8125 54.890625 23.390625 \r\nQ 54.890625 11.625 47.5625 5.09375 \r\nQ 40.234375 -1.421875 26.90625 -1.421875 \r\nQ 22.3125 -1.421875 17.546875 -0.640625 \r\nQ 12.796875 0.140625 7.71875 1.703125 \r\nL 7.71875 11.625 \r\nQ 12.109375 9.234375 16.796875 8.0625 \r\nQ 21.484375 6.890625 26.703125 6.890625 \r\nQ 35.15625 6.890625 40.078125 11.328125 \r\nQ 45.015625 15.765625 45.015625 23.390625 \r\nQ 45.015625 31 40.078125 35.4375 \r\nQ 35.15625 39.890625 26.703125 39.890625 \r\nQ 22.75 39.890625 18.8125 39.015625 \r\nQ 14.890625 38.140625 10.796875 36.28125 \r\nz\r\n\" id=\"DejaVuSans-53\"/>\r\n       </defs>\r\n       <use xlink:href=\"#DejaVuSans-48\"/>\r\n       <use x=\"63.623047\" xlink:href=\"#DejaVuSans-46\"/>\r\n       <use x=\"95.410156\" xlink:href=\"#DejaVuSans-53\"/>\r\n      </g>\r\n     </g>\r\n    </g>\r\n    <g id=\"xtick_3\">\r\n     <g id=\"line2d_3\">\r\n      <g>\r\n       <use style=\"stroke:#000000;stroke-width:0.8;\" x=\"230.694375\" xlink:href=\"#mf16a0e54e1\" y=\"94.798125\"/>\r\n      </g>\r\n     </g>\r\n     <g id=\"text_3\">\r\n      <!-- 1.0 -->\r\n      <g transform=\"translate(222.742812 109.396562)scale(0.1 -0.1)\">\r\n       <defs>\r\n        <path d=\"M 12.40625 8.296875 \r\nL 28.515625 8.296875 \r\nL 28.515625 63.921875 \r\nL 10.984375 60.40625 \r\nL 10.984375 69.390625 \r\nL 28.421875 72.90625 \r\nL 38.28125 72.90625 \r\nL 38.28125 8.296875 \r\nL 54.390625 8.296875 \r\nL 54.390625 0 \r\nL 12.40625 0 \r\nz\r\n\" id=\"DejaVuSans-49\"/>\r\n       </defs>\r\n       <use xlink:href=\"#DejaVuSans-49\"/>\r\n       <use x=\"63.623047\" xlink:href=\"#DejaVuSans-46\"/>\r\n       <use x=\"95.410156\" xlink:href=\"#DejaVuSans-48\"/>\r\n      </g>\r\n     </g>\r\n    </g>\r\n    <g id=\"xtick_4\">\r\n     <g id=\"line2d_4\">\r\n      <g>\r\n       <use style=\"stroke:#000000;stroke-width:0.8;\" x=\"279.785284\" xlink:href=\"#mf16a0e54e1\" y=\"94.798125\"/>\r\n      </g>\r\n     </g>\r\n     <g id=\"text_4\">\r\n      <!-- 1.5 -->\r\n      <g transform=\"translate(271.833722 109.396562)scale(0.1 -0.1)\">\r\n       <use xlink:href=\"#DejaVuSans-49\"/>\r\n       <use x=\"63.623047\" xlink:href=\"#DejaVuSans-46\"/>\r\n       <use x=\"95.410156\" xlink:href=\"#DejaVuSans-53\"/>\r\n      </g>\r\n     </g>\r\n    </g>\r\n    <g id=\"xtick_5\">\r\n     <g id=\"line2d_5\">\r\n      <g>\r\n       <use style=\"stroke:#000000;stroke-width:0.8;\" x=\"328.876193\" xlink:href=\"#mf16a0e54e1\" y=\"94.798125\"/>\r\n      </g>\r\n     </g>\r\n     <g id=\"text_5\">\r\n      <!-- 2.0 -->\r\n      <g transform=\"translate(320.924631 109.396562)scale(0.1 -0.1)\">\r\n       <defs>\r\n        <path d=\"M 19.1875 8.296875 \r\nL 53.609375 8.296875 \r\nL 53.609375 0 \r\nL 7.328125 0 \r\nL 7.328125 8.296875 \r\nQ 12.9375 14.109375 22.625 23.890625 \r\nQ 32.328125 33.6875 34.8125 36.53125 \r\nQ 39.546875 41.84375 41.421875 45.53125 \r\nQ 43.3125 49.21875 43.3125 52.78125 \r\nQ 43.3125 58.59375 39.234375 62.25 \r\nQ 35.15625 65.921875 28.609375 65.921875 \r\nQ 23.96875 65.921875 18.8125 64.3125 \r\nQ 13.671875 62.703125 7.8125 59.421875 \r\nL 7.8125 69.390625 \r\nQ 13.765625 71.78125 18.9375 73 \r\nQ 24.125 74.21875 28.421875 74.21875 \r\nQ 39.75 74.21875 46.484375 68.546875 \r\nQ 53.21875 62.890625 53.21875 53.421875 \r\nQ 53.21875 48.921875 51.53125 44.890625 \r\nQ 49.859375 40.875 45.40625 35.40625 \r\nQ 44.1875 33.984375 37.640625 27.21875 \r\nQ 31.109375 20.453125 19.1875 8.296875 \r\nz\r\n\" id=\"DejaVuSans-50\"/>\r\n       </defs>\r\n       <use xlink:href=\"#DejaVuSans-50\"/>\r\n       <use x=\"63.623047\" xlink:href=\"#DejaVuSans-46\"/>\r\n       <use x=\"95.410156\" xlink:href=\"#DejaVuSans-48\"/>\r\n      </g>\r\n     </g>\r\n    </g>\r\n    <g id=\"xtick_6\">\r\n     <g id=\"line2d_6\">\r\n      <g>\r\n       <use style=\"stroke:#000000;stroke-width:0.8;\" x=\"377.967102\" xlink:href=\"#mf16a0e54e1\" y=\"94.798125\"/>\r\n      </g>\r\n     </g>\r\n     <g id=\"text_6\">\r\n      <!-- 2.5 -->\r\n      <g transform=\"translate(370.01554 109.396562)scale(0.1 -0.1)\">\r\n       <use xlink:href=\"#DejaVuSans-50\"/>\r\n       <use x=\"63.623047\" xlink:href=\"#DejaVuSans-46\"/>\r\n       <use x=\"95.410156\" xlink:href=\"#DejaVuSans-53\"/>\r\n      </g>\r\n     </g>\r\n    </g>\r\n    <g id=\"xtick_7\">\r\n     <g id=\"line2d_7\">\r\n      <g>\r\n       <use style=\"stroke:#000000;stroke-width:0.8;\" x=\"427.058011\" xlink:href=\"#mf16a0e54e1\" y=\"94.798125\"/>\r\n      </g>\r\n     </g>\r\n     <g id=\"text_7\">\r\n      <!-- 3.0 -->\r\n      <g transform=\"translate(419.106449 109.396562)scale(0.1 -0.1)\">\r\n       <defs>\r\n        <path d=\"M 40.578125 39.3125 \r\nQ 47.65625 37.796875 51.625 33 \r\nQ 55.609375 28.21875 55.609375 21.1875 \r\nQ 55.609375 10.40625 48.1875 4.484375 \r\nQ 40.765625 -1.421875 27.09375 -1.421875 \r\nQ 22.515625 -1.421875 17.65625 -0.515625 \r\nQ 12.796875 0.390625 7.625 2.203125 \r\nL 7.625 11.71875 \r\nQ 11.71875 9.328125 16.59375 8.109375 \r\nQ 21.484375 6.890625 26.8125 6.890625 \r\nQ 36.078125 6.890625 40.9375 10.546875 \r\nQ 45.796875 14.203125 45.796875 21.1875 \r\nQ 45.796875 27.640625 41.28125 31.265625 \r\nQ 36.765625 34.90625 28.71875 34.90625 \r\nL 20.21875 34.90625 \r\nL 20.21875 43.015625 \r\nL 29.109375 43.015625 \r\nQ 36.375 43.015625 40.234375 45.921875 \r\nQ 44.09375 48.828125 44.09375 54.296875 \r\nQ 44.09375 59.90625 40.109375 62.90625 \r\nQ 36.140625 65.921875 28.71875 65.921875 \r\nQ 24.65625 65.921875 20.015625 65.03125 \r\nQ 15.375 64.15625 9.8125 62.3125 \r\nL 9.8125 71.09375 \r\nQ 15.4375 72.65625 20.34375 73.4375 \r\nQ 25.25 74.21875 29.59375 74.21875 \r\nQ 40.828125 74.21875 47.359375 69.109375 \r\nQ 53.90625 64.015625 53.90625 55.328125 \r\nQ 53.90625 49.265625 50.4375 45.09375 \r\nQ 46.96875 40.921875 40.578125 39.3125 \r\nz\r\n\" id=\"DejaVuSans-51\"/>\r\n       </defs>\r\n       <use xlink:href=\"#DejaVuSans-51\"/>\r\n       <use x=\"63.623047\" xlink:href=\"#DejaVuSans-46\"/>\r\n       <use x=\"95.410156\" xlink:href=\"#DejaVuSans-48\"/>\r\n      </g>\r\n     </g>\r\n    </g>\r\n    <g id=\"text_8\">\r\n     <!-- X -->\r\n     <g transform=\"translate(281.269375 123.074687)scale(0.1 -0.1)\">\r\n      <defs>\r\n       <path d=\"M 6.296875 72.90625 \r\nL 16.890625 72.90625 \r\nL 35.015625 45.796875 \r\nL 53.21875 72.90625 \r\nL 63.8125 72.90625 \r\nL 40.375 37.890625 \r\nL 65.375 0 \r\nL 54.78125 0 \r\nL 34.28125 31 \r\nL 13.625 0 \r\nL 2.984375 0 \r\nL 29 38.921875 \r\nz\r\n\" id=\"DejaVuSans-88\"/>\r\n      </defs>\r\n      <use xlink:href=\"#DejaVuSans-88\"/>\r\n     </g>\r\n    </g>\r\n   </g>\r\n   <g id=\"matplotlib.axis_2\">\r\n    <g id=\"ytick_1\">\r\n     <g id=\"line2d_8\">\r\n      <defs>\r\n       <path d=\"M 0 0 \r\nL -3.5 0 \r\n\" id=\"m97242df3db\" style=\"stroke:#000000;stroke-width:0.8;\"/>\r\n      </defs>\r\n      <g>\r\n       <use style=\"stroke:#000000;stroke-width:0.8;\" x=\"117.294375\" xlink:href=\"#m97242df3db\" y=\"68.122934\"/>\r\n      </g>\r\n     </g>\r\n     <g id=\"text_9\">\r\n      <!-- 8 -->\r\n      <g transform=\"translate(103.931875 71.922153)scale(0.1 -0.1)\">\r\n       <defs>\r\n        <path d=\"M 31.78125 34.625 \r\nQ 24.75 34.625 20.71875 30.859375 \r\nQ 16.703125 27.09375 16.703125 20.515625 \r\nQ 16.703125 13.921875 20.71875 10.15625 \r\nQ 24.75 6.390625 31.78125 6.390625 \r\nQ 38.8125 6.390625 42.859375 10.171875 \r\nQ 46.921875 13.96875 46.921875 20.515625 \r\nQ 46.921875 27.09375 42.890625 30.859375 \r\nQ 38.875 34.625 31.78125 34.625 \r\nz\r\nM 21.921875 38.8125 \r\nQ 15.578125 40.375 12.03125 44.71875 \r\nQ 8.5 49.078125 8.5 55.328125 \r\nQ 8.5 64.0625 14.71875 69.140625 \r\nQ 20.953125 74.21875 31.78125 74.21875 \r\nQ 42.671875 74.21875 48.875 69.140625 \r\nQ 55.078125 64.0625 55.078125 55.328125 \r\nQ 55.078125 49.078125 51.53125 44.71875 \r\nQ 48 40.375 41.703125 38.8125 \r\nQ 48.828125 37.15625 52.796875 32.3125 \r\nQ 56.78125 27.484375 56.78125 20.515625 \r\nQ 56.78125 9.90625 50.3125 4.234375 \r\nQ 43.84375 -1.421875 31.78125 -1.421875 \r\nQ 19.734375 -1.421875 13.25 4.234375 \r\nQ 6.78125 9.90625 6.78125 20.515625 \r\nQ 6.78125 27.484375 10.78125 32.3125 \r\nQ 14.796875 37.15625 21.921875 38.8125 \r\nz\r\nM 18.3125 54.390625 \r\nQ 18.3125 48.734375 21.84375 45.5625 \r\nQ 25.390625 42.390625 31.78125 42.390625 \r\nQ 38.140625 42.390625 41.71875 45.5625 \r\nQ 45.3125 48.734375 45.3125 54.390625 \r\nQ 45.3125 60.0625 41.71875 63.234375 \r\nQ 38.140625 66.40625 31.78125 66.40625 \r\nQ 25.390625 66.40625 21.84375 63.234375 \r\nQ 18.3125 60.0625 18.3125 54.390625 \r\nz\r\n\" id=\"DejaVuSans-56\"/>\r\n       </defs>\r\n       <use xlink:href=\"#DejaVuSans-56\"/>\r\n      </g>\r\n     </g>\r\n    </g>\r\n    <g id=\"ytick_2\">\r\n     <g id=\"line2d_9\">\r\n      <g>\r\n       <use style=\"stroke:#000000;stroke-width:0.8;\" x=\"117.294375\" xlink:href=\"#m97242df3db\" y=\"25.61267\"/>\r\n      </g>\r\n     </g>\r\n     <g id=\"text_10\">\r\n      <!-- 10 -->\r\n      <g transform=\"translate(97.569375 29.411889)scale(0.1 -0.1)\">\r\n       <use xlink:href=\"#DejaVuSans-49\"/>\r\n       <use x=\"63.623047\" xlink:href=\"#DejaVuSans-48\"/>\r\n      </g>\r\n     </g>\r\n    </g>\r\n    <g id=\"text_11\">\r\n     <!-- Y =-X + 10 -->\r\n     <g transform=\"translate(91.489687 86.100313)rotate(-90)scale(0.1 -0.1)\">\r\n      <defs>\r\n       <path d=\"M -0.203125 72.90625 \r\nL 10.40625 72.90625 \r\nL 30.609375 42.921875 \r\nL 50.6875 72.90625 \r\nL 61.28125 72.90625 \r\nL 35.5 34.71875 \r\nL 35.5 0 \r\nL 25.59375 0 \r\nL 25.59375 34.71875 \r\nz\r\n\" id=\"DejaVuSans-89\"/>\r\n       <path id=\"DejaVuSans-32\"/>\r\n       <path d=\"M 10.59375 45.40625 \r\nL 73.1875 45.40625 \r\nL 73.1875 37.203125 \r\nL 10.59375 37.203125 \r\nz\r\nM 10.59375 25.484375 \r\nL 73.1875 25.484375 \r\nL 73.1875 17.1875 \r\nL 10.59375 17.1875 \r\nz\r\n\" id=\"DejaVuSans-61\"/>\r\n       <path d=\"M 4.890625 31.390625 \r\nL 31.203125 31.390625 \r\nL 31.203125 23.390625 \r\nL 4.890625 23.390625 \r\nz\r\n\" id=\"DejaVuSans-45\"/>\r\n       <path d=\"M 46 62.703125 \r\nL 46 35.5 \r\nL 73.1875 35.5 \r\nL 73.1875 27.203125 \r\nL 46 27.203125 \r\nL 46 0 \r\nL 37.796875 0 \r\nL 37.796875 27.203125 \r\nL 10.59375 27.203125 \r\nL 10.59375 35.5 \r\nL 37.796875 35.5 \r\nL 37.796875 62.703125 \r\nz\r\n\" id=\"DejaVuSans-43\"/>\r\n      </defs>\r\n      <use xlink:href=\"#DejaVuSans-89\"/>\r\n      <use x=\"61.083984\" xlink:href=\"#DejaVuSans-32\"/>\r\n      <use x=\"92.871094\" xlink:href=\"#DejaVuSans-61\"/>\r\n      <use x=\"176.660156\" xlink:href=\"#DejaVuSans-45\"/>\r\n      <use x=\"207.744141\" xlink:href=\"#DejaVuSans-88\"/>\r\n      <use x=\"276.25\" xlink:href=\"#DejaVuSans-32\"/>\r\n      <use x=\"308.037109\" xlink:href=\"#DejaVuSans-43\"/>\r\n      <use x=\"391.826172\" xlink:href=\"#DejaVuSans-32\"/>\r\n      <use x=\"423.613281\" xlink:href=\"#DejaVuSans-49\"/>\r\n      <use x=\"487.236328\" xlink:href=\"#DejaVuSans-48\"/>\r\n     </g>\r\n    </g>\r\n   </g>\r\n   <g id=\"patch_3\">\r\n    <path d=\"M 117.294375 94.798125 \r\nL 117.294375 22.318125 \r\n\" style=\"fill:none;stroke:#000000;stroke-linecap:square;stroke-linejoin:miter;stroke-width:0.8;\"/>\r\n   </g>\r\n   <g id=\"patch_4\">\r\n    <path d=\"M 452.094375 94.798125 \r\nL 452.094375 22.318125 \r\n\" style=\"fill:none;stroke:#000000;stroke-linecap:square;stroke-linejoin:miter;stroke-width:0.8;\"/>\r\n   </g>\r\n   <g id=\"patch_5\">\r\n    <path d=\"M 117.294375 94.798125 \r\nL 452.094375 94.798125 \r\n\" style=\"fill:none;stroke:#000000;stroke-linecap:square;stroke-linejoin:miter;stroke-width:0.8;\"/>\r\n   </g>\r\n   <g id=\"patch_6\">\r\n    <path d=\"M 117.294375 22.318125 \r\nL 452.094375 22.318125 \r\n\" style=\"fill:none;stroke:#000000;stroke-linecap:square;stroke-linejoin:miter;stroke-width:0.8;\"/>\r\n   </g>\r\n   <g id=\"text_12\">\r\n    <!-- Pearson correlation coefficient for variables x and y=(-x + 10) is -1.00. Negative correlation. -->\r\n    <g transform=\"translate(7.2 16.318125)scale(0.12 -0.12)\">\r\n     <defs>\r\n      <path d=\"M 19.671875 64.796875 \r\nL 19.671875 37.40625 \r\nL 32.078125 37.40625 \r\nQ 38.96875 37.40625 42.71875 40.96875 \r\nQ 46.484375 44.53125 46.484375 51.125 \r\nQ 46.484375 57.671875 42.71875 61.234375 \r\nQ 38.96875 64.796875 32.078125 64.796875 \r\nz\r\nM 9.8125 72.90625 \r\nL 32.078125 72.90625 \r\nQ 44.34375 72.90625 50.609375 67.359375 \r\nQ 56.890625 61.8125 56.890625 51.125 \r\nQ 56.890625 40.328125 50.609375 34.8125 \r\nQ 44.34375 29.296875 32.078125 29.296875 \r\nL 19.671875 29.296875 \r\nL 19.671875 0 \r\nL 9.8125 0 \r\nz\r\n\" id=\"DejaVuSans-80\"/>\r\n      <path d=\"M 56.203125 29.59375 \r\nL 56.203125 25.203125 \r\nL 14.890625 25.203125 \r\nQ 15.484375 15.921875 20.484375 11.0625 \r\nQ 25.484375 6.203125 34.421875 6.203125 \r\nQ 39.59375 6.203125 44.453125 7.46875 \r\nQ 49.3125 8.734375 54.109375 11.28125 \r\nL 54.109375 2.78125 \r\nQ 49.265625 0.734375 44.1875 -0.34375 \r\nQ 39.109375 -1.421875 33.890625 -1.421875 \r\nQ 20.796875 -1.421875 13.15625 6.1875 \r\nQ 5.515625 13.8125 5.515625 26.8125 \r\nQ 5.515625 40.234375 12.765625 48.109375 \r\nQ 20.015625 56 32.328125 56 \r\nQ 43.359375 56 49.78125 48.890625 \r\nQ 56.203125 41.796875 56.203125 29.59375 \r\nz\r\nM 47.21875 32.234375 \r\nQ 47.125 39.59375 43.09375 43.984375 \r\nQ 39.0625 48.390625 32.421875 48.390625 \r\nQ 24.90625 48.390625 20.390625 44.140625 \r\nQ 15.875 39.890625 15.1875 32.171875 \r\nz\r\n\" id=\"DejaVuSans-101\"/>\r\n      <path d=\"M 34.28125 27.484375 \r\nQ 23.390625 27.484375 19.1875 25 \r\nQ 14.984375 22.515625 14.984375 16.5 \r\nQ 14.984375 11.71875 18.140625 8.90625 \r\nQ 21.296875 6.109375 26.703125 6.109375 \r\nQ 34.1875 6.109375 38.703125 11.40625 \r\nQ 43.21875 16.703125 43.21875 25.484375 \r\nL 43.21875 27.484375 \r\nz\r\nM 52.203125 31.203125 \r\nL 52.203125 0 \r\nL 43.21875 0 \r\nL 43.21875 8.296875 \r\nQ 40.140625 3.328125 35.546875 0.953125 \r\nQ 30.953125 -1.421875 24.3125 -1.421875 \r\nQ 15.921875 -1.421875 10.953125 3.296875 \r\nQ 6 8.015625 6 15.921875 \r\nQ 6 25.140625 12.171875 29.828125 \r\nQ 18.359375 34.515625 30.609375 34.515625 \r\nL 43.21875 34.515625 \r\nL 43.21875 35.40625 \r\nQ 43.21875 41.609375 39.140625 45 \r\nQ 35.0625 48.390625 27.6875 48.390625 \r\nQ 23 48.390625 18.546875 47.265625 \r\nQ 14.109375 46.140625 10.015625 43.890625 \r\nL 10.015625 52.203125 \r\nQ 14.9375 54.109375 19.578125 55.046875 \r\nQ 24.21875 56 28.609375 56 \r\nQ 40.484375 56 46.34375 49.84375 \r\nQ 52.203125 43.703125 52.203125 31.203125 \r\nz\r\n\" id=\"DejaVuSans-97\"/>\r\n      <path d=\"M 41.109375 46.296875 \r\nQ 39.59375 47.171875 37.8125 47.578125 \r\nQ 36.03125 48 33.890625 48 \r\nQ 26.265625 48 22.1875 43.046875 \r\nQ 18.109375 38.09375 18.109375 28.8125 \r\nL 18.109375 0 \r\nL 9.078125 0 \r\nL 9.078125 54.6875 \r\nL 18.109375 54.6875 \r\nL 18.109375 46.1875 \r\nQ 20.953125 51.171875 25.484375 53.578125 \r\nQ 30.03125 56 36.53125 56 \r\nQ 37.453125 56 38.578125 55.875 \r\nQ 39.703125 55.765625 41.0625 55.515625 \r\nz\r\n\" id=\"DejaVuSans-114\"/>\r\n      <path d=\"M 44.28125 53.078125 \r\nL 44.28125 44.578125 \r\nQ 40.484375 46.53125 36.375 47.5 \r\nQ 32.28125 48.484375 27.875 48.484375 \r\nQ 21.1875 48.484375 17.84375 46.4375 \r\nQ 14.5 44.390625 14.5 40.28125 \r\nQ 14.5 37.15625 16.890625 35.375 \r\nQ 19.28125 33.59375 26.515625 31.984375 \r\nL 29.59375 31.296875 \r\nQ 39.15625 29.25 43.1875 25.515625 \r\nQ 47.21875 21.78125 47.21875 15.09375 \r\nQ 47.21875 7.46875 41.1875 3.015625 \r\nQ 35.15625 -1.421875 24.609375 -1.421875 \r\nQ 20.21875 -1.421875 15.453125 -0.5625 \r\nQ 10.6875 0.296875 5.421875 2 \r\nL 5.421875 11.28125 \r\nQ 10.40625 8.6875 15.234375 7.390625 \r\nQ 20.0625 6.109375 24.8125 6.109375 \r\nQ 31.15625 6.109375 34.5625 8.28125 \r\nQ 37.984375 10.453125 37.984375 14.40625 \r\nQ 37.984375 18.0625 35.515625 20.015625 \r\nQ 33.0625 21.96875 24.703125 23.78125 \r\nL 21.578125 24.515625 \r\nQ 13.234375 26.265625 9.515625 29.90625 \r\nQ 5.8125 33.546875 5.8125 39.890625 \r\nQ 5.8125 47.609375 11.28125 51.796875 \r\nQ 16.75 56 26.8125 56 \r\nQ 31.78125 56 36.171875 55.265625 \r\nQ 40.578125 54.546875 44.28125 53.078125 \r\nz\r\n\" id=\"DejaVuSans-115\"/>\r\n      <path d=\"M 30.609375 48.390625 \r\nQ 23.390625 48.390625 19.1875 42.75 \r\nQ 14.984375 37.109375 14.984375 27.296875 \r\nQ 14.984375 17.484375 19.15625 11.84375 \r\nQ 23.34375 6.203125 30.609375 6.203125 \r\nQ 37.796875 6.203125 41.984375 11.859375 \r\nQ 46.1875 17.53125 46.1875 27.296875 \r\nQ 46.1875 37.015625 41.984375 42.703125 \r\nQ 37.796875 48.390625 30.609375 48.390625 \r\nz\r\nM 30.609375 56 \r\nQ 42.328125 56 49.015625 48.375 \r\nQ 55.71875 40.765625 55.71875 27.296875 \r\nQ 55.71875 13.875 49.015625 6.21875 \r\nQ 42.328125 -1.421875 30.609375 -1.421875 \r\nQ 18.84375 -1.421875 12.171875 6.21875 \r\nQ 5.515625 13.875 5.515625 27.296875 \r\nQ 5.515625 40.765625 12.171875 48.375 \r\nQ 18.84375 56 30.609375 56 \r\nz\r\n\" id=\"DejaVuSans-111\"/>\r\n      <path d=\"M 54.890625 33.015625 \r\nL 54.890625 0 \r\nL 45.90625 0 \r\nL 45.90625 32.71875 \r\nQ 45.90625 40.484375 42.875 44.328125 \r\nQ 39.84375 48.1875 33.796875 48.1875 \r\nQ 26.515625 48.1875 22.3125 43.546875 \r\nQ 18.109375 38.921875 18.109375 30.90625 \r\nL 18.109375 0 \r\nL 9.078125 0 \r\nL 9.078125 54.6875 \r\nL 18.109375 54.6875 \r\nL 18.109375 46.1875 \r\nQ 21.34375 51.125 25.703125 53.5625 \r\nQ 30.078125 56 35.796875 56 \r\nQ 45.21875 56 50.046875 50.171875 \r\nQ 54.890625 44.34375 54.890625 33.015625 \r\nz\r\n\" id=\"DejaVuSans-110\"/>\r\n      <path d=\"M 48.78125 52.59375 \r\nL 48.78125 44.1875 \r\nQ 44.96875 46.296875 41.140625 47.34375 \r\nQ 37.3125 48.390625 33.40625 48.390625 \r\nQ 24.65625 48.390625 19.8125 42.84375 \r\nQ 14.984375 37.3125 14.984375 27.296875 \r\nQ 14.984375 17.28125 19.8125 11.734375 \r\nQ 24.65625 6.203125 33.40625 6.203125 \r\nQ 37.3125 6.203125 41.140625 7.25 \r\nQ 44.96875 8.296875 48.78125 10.40625 \r\nL 48.78125 2.09375 \r\nQ 45.015625 0.34375 40.984375 -0.53125 \r\nQ 36.96875 -1.421875 32.421875 -1.421875 \r\nQ 20.0625 -1.421875 12.78125 6.34375 \r\nQ 5.515625 14.109375 5.515625 27.296875 \r\nQ 5.515625 40.671875 12.859375 48.328125 \r\nQ 20.21875 56 33.015625 56 \r\nQ 37.15625 56 41.109375 55.140625 \r\nQ 45.0625 54.296875 48.78125 52.59375 \r\nz\r\n\" id=\"DejaVuSans-99\"/>\r\n      <path d=\"M 9.421875 75.984375 \r\nL 18.40625 75.984375 \r\nL 18.40625 0 \r\nL 9.421875 0 \r\nz\r\n\" id=\"DejaVuSans-108\"/>\r\n      <path d=\"M 18.3125 70.21875 \r\nL 18.3125 54.6875 \r\nL 36.8125 54.6875 \r\nL 36.8125 47.703125 \r\nL 18.3125 47.703125 \r\nL 18.3125 18.015625 \r\nQ 18.3125 11.328125 20.140625 9.421875 \r\nQ 21.96875 7.515625 27.59375 7.515625 \r\nL 36.8125 7.515625 \r\nL 36.8125 0 \r\nL 27.59375 0 \r\nQ 17.1875 0 13.234375 3.875 \r\nQ 9.28125 7.765625 9.28125 18.015625 \r\nL 9.28125 47.703125 \r\nL 2.6875 47.703125 \r\nL 2.6875 54.6875 \r\nL 9.28125 54.6875 \r\nL 9.28125 70.21875 \r\nz\r\n\" id=\"DejaVuSans-116\"/>\r\n      <path d=\"M 9.421875 54.6875 \r\nL 18.40625 54.6875 \r\nL 18.40625 0 \r\nL 9.421875 0 \r\nz\r\nM 9.421875 75.984375 \r\nL 18.40625 75.984375 \r\nL 18.40625 64.59375 \r\nL 9.421875 64.59375 \r\nz\r\n\" id=\"DejaVuSans-105\"/>\r\n      <path d=\"M 37.109375 75.984375 \r\nL 37.109375 68.5 \r\nL 28.515625 68.5 \r\nQ 23.6875 68.5 21.796875 66.546875 \r\nQ 19.921875 64.59375 19.921875 59.515625 \r\nL 19.921875 54.6875 \r\nL 34.71875 54.6875 \r\nL 34.71875 47.703125 \r\nL 19.921875 47.703125 \r\nL 19.921875 0 \r\nL 10.890625 0 \r\nL 10.890625 47.703125 \r\nL 2.296875 47.703125 \r\nL 2.296875 54.6875 \r\nL 10.890625 54.6875 \r\nL 10.890625 58.5 \r\nQ 10.890625 67.625 15.140625 71.796875 \r\nQ 19.390625 75.984375 28.609375 75.984375 \r\nz\r\n\" id=\"DejaVuSans-102\"/>\r\n      <path d=\"M 2.984375 54.6875 \r\nL 12.5 54.6875 \r\nL 29.59375 8.796875 \r\nL 46.6875 54.6875 \r\nL 56.203125 54.6875 \r\nL 35.6875 0 \r\nL 23.484375 0 \r\nz\r\n\" id=\"DejaVuSans-118\"/>\r\n      <path d=\"M 48.6875 27.296875 \r\nQ 48.6875 37.203125 44.609375 42.84375 \r\nQ 40.53125 48.484375 33.40625 48.484375 \r\nQ 26.265625 48.484375 22.1875 42.84375 \r\nQ 18.109375 37.203125 18.109375 27.296875 \r\nQ 18.109375 17.390625 22.1875 11.75 \r\nQ 26.265625 6.109375 33.40625 6.109375 \r\nQ 40.53125 6.109375 44.609375 11.75 \r\nQ 48.6875 17.390625 48.6875 27.296875 \r\nz\r\nM 18.109375 46.390625 \r\nQ 20.953125 51.265625 25.265625 53.625 \r\nQ 29.59375 56 35.59375 56 \r\nQ 45.5625 56 51.78125 48.09375 \r\nQ 58.015625 40.1875 58.015625 27.296875 \r\nQ 58.015625 14.40625 51.78125 6.484375 \r\nQ 45.5625 -1.421875 35.59375 -1.421875 \r\nQ 29.59375 -1.421875 25.265625 0.953125 \r\nQ 20.953125 3.328125 18.109375 8.203125 \r\nL 18.109375 0 \r\nL 9.078125 0 \r\nL 9.078125 75.984375 \r\nL 18.109375 75.984375 \r\nz\r\n\" id=\"DejaVuSans-98\"/>\r\n      <path d=\"M 54.890625 54.6875 \r\nL 35.109375 28.078125 \r\nL 55.90625 0 \r\nL 45.3125 0 \r\nL 29.390625 21.484375 \r\nL 13.484375 0 \r\nL 2.875 0 \r\nL 24.125 28.609375 \r\nL 4.6875 54.6875 \r\nL 15.28125 54.6875 \r\nL 29.78125 35.203125 \r\nL 44.28125 54.6875 \r\nz\r\n\" id=\"DejaVuSans-120\"/>\r\n      <path d=\"M 45.40625 46.390625 \r\nL 45.40625 75.984375 \r\nL 54.390625 75.984375 \r\nL 54.390625 0 \r\nL 45.40625 0 \r\nL 45.40625 8.203125 \r\nQ 42.578125 3.328125 38.25 0.953125 \r\nQ 33.9375 -1.421875 27.875 -1.421875 \r\nQ 17.96875 -1.421875 11.734375 6.484375 \r\nQ 5.515625 14.40625 5.515625 27.296875 \r\nQ 5.515625 40.1875 11.734375 48.09375 \r\nQ 17.96875 56 27.875 56 \r\nQ 33.9375 56 38.25 53.625 \r\nQ 42.578125 51.265625 45.40625 46.390625 \r\nz\r\nM 14.796875 27.296875 \r\nQ 14.796875 17.390625 18.875 11.75 \r\nQ 22.953125 6.109375 30.078125 6.109375 \r\nQ 37.203125 6.109375 41.296875 11.75 \r\nQ 45.40625 17.390625 45.40625 27.296875 \r\nQ 45.40625 37.203125 41.296875 42.84375 \r\nQ 37.203125 48.484375 30.078125 48.484375 \r\nQ 22.953125 48.484375 18.875 42.84375 \r\nQ 14.796875 37.203125 14.796875 27.296875 \r\nz\r\n\" id=\"DejaVuSans-100\"/>\r\n      <path d=\"M 32.171875 -5.078125 \r\nQ 28.375 -14.84375 24.75 -17.8125 \r\nQ 21.140625 -20.796875 15.09375 -20.796875 \r\nL 7.90625 -20.796875 \r\nL 7.90625 -13.28125 \r\nL 13.1875 -13.28125 \r\nQ 16.890625 -13.28125 18.9375 -11.515625 \r\nQ 21 -9.765625 23.484375 -3.21875 \r\nL 25.09375 0.875 \r\nL 2.984375 54.6875 \r\nL 12.5 54.6875 \r\nL 29.59375 11.921875 \r\nL 46.6875 54.6875 \r\nL 56.203125 54.6875 \r\nz\r\n\" id=\"DejaVuSans-121\"/>\r\n      <path d=\"M 31 75.875 \r\nQ 24.46875 64.65625 21.28125 53.65625 \r\nQ 18.109375 42.671875 18.109375 31.390625 \r\nQ 18.109375 20.125 21.3125 9.0625 \r\nQ 24.515625 -2 31 -13.1875 \r\nL 23.1875 -13.1875 \r\nQ 15.875 -1.703125 12.234375 9.375 \r\nQ 8.59375 20.453125 8.59375 31.390625 \r\nQ 8.59375 42.28125 12.203125 53.3125 \r\nQ 15.828125 64.359375 23.1875 75.875 \r\nz\r\n\" id=\"DejaVuSans-40\"/>\r\n      <path d=\"M 8.015625 75.875 \r\nL 15.828125 75.875 \r\nQ 23.140625 64.359375 26.78125 53.3125 \r\nQ 30.421875 42.28125 30.421875 31.390625 \r\nQ 30.421875 20.453125 26.78125 9.375 \r\nQ 23.140625 -1.703125 15.828125 -13.1875 \r\nL 8.015625 -13.1875 \r\nQ 14.5 -2 17.703125 9.0625 \r\nQ 20.90625 20.125 20.90625 31.390625 \r\nQ 20.90625 42.671875 17.703125 53.65625 \r\nQ 14.5 64.65625 8.015625 75.875 \r\nz\r\n\" id=\"DejaVuSans-41\"/>\r\n      <path d=\"M 9.8125 72.90625 \r\nL 23.09375 72.90625 \r\nL 55.421875 11.921875 \r\nL 55.421875 72.90625 \r\nL 64.984375 72.90625 \r\nL 64.984375 0 \r\nL 51.703125 0 \r\nL 19.390625 60.984375 \r\nL 19.390625 0 \r\nL 9.8125 0 \r\nz\r\n\" id=\"DejaVuSans-78\"/>\r\n      <path d=\"M 45.40625 27.984375 \r\nQ 45.40625 37.75 41.375 43.109375 \r\nQ 37.359375 48.484375 30.078125 48.484375 \r\nQ 22.859375 48.484375 18.828125 43.109375 \r\nQ 14.796875 37.75 14.796875 27.984375 \r\nQ 14.796875 18.265625 18.828125 12.890625 \r\nQ 22.859375 7.515625 30.078125 7.515625 \r\nQ 37.359375 7.515625 41.375 12.890625 \r\nQ 45.40625 18.265625 45.40625 27.984375 \r\nz\r\nM 54.390625 6.78125 \r\nQ 54.390625 -7.171875 48.1875 -13.984375 \r\nQ 42 -20.796875 29.203125 -20.796875 \r\nQ 24.46875 -20.796875 20.265625 -20.09375 \r\nQ 16.0625 -19.390625 12.109375 -17.921875 \r\nL 12.109375 -9.1875 \r\nQ 16.0625 -11.328125 19.921875 -12.34375 \r\nQ 23.78125 -13.375 27.78125 -13.375 \r\nQ 36.625 -13.375 41.015625 -8.765625 \r\nQ 45.40625 -4.15625 45.40625 5.171875 \r\nL 45.40625 9.625 \r\nQ 42.625 4.78125 38.28125 2.390625 \r\nQ 33.9375 0 27.875 0 \r\nQ 17.828125 0 11.671875 7.65625 \r\nQ 5.515625 15.328125 5.515625 27.984375 \r\nQ 5.515625 40.671875 11.671875 48.328125 \r\nQ 17.828125 56 27.875 56 \r\nQ 33.9375 56 38.28125 53.609375 \r\nQ 42.625 51.21875 45.40625 46.390625 \r\nL 45.40625 54.6875 \r\nL 54.390625 54.6875 \r\nz\r\n\" id=\"DejaVuSans-103\"/>\r\n     </defs>\r\n     <use xlink:href=\"#DejaVuSans-80\"/>\r\n     <use x=\"56.677734\" xlink:href=\"#DejaVuSans-101\"/>\r\n     <use x=\"118.201172\" xlink:href=\"#DejaVuSans-97\"/>\r\n     <use x=\"179.480469\" xlink:href=\"#DejaVuSans-114\"/>\r\n     <use x=\"220.59375\" xlink:href=\"#DejaVuSans-115\"/>\r\n     <use x=\"272.693359\" xlink:href=\"#DejaVuSans-111\"/>\r\n     <use x=\"333.875\" xlink:href=\"#DejaVuSans-110\"/>\r\n     <use x=\"397.253906\" xlink:href=\"#DejaVuSans-32\"/>\r\n     <use x=\"429.041016\" xlink:href=\"#DejaVuSans-99\"/>\r\n     <use x=\"484.021484\" xlink:href=\"#DejaVuSans-111\"/>\r\n     <use x=\"545.203125\" xlink:href=\"#DejaVuSans-114\"/>\r\n     <use x=\"584.566406\" xlink:href=\"#DejaVuSans-114\"/>\r\n     <use x=\"623.429688\" xlink:href=\"#DejaVuSans-101\"/>\r\n     <use x=\"684.953125\" xlink:href=\"#DejaVuSans-108\"/>\r\n     <use x=\"712.736328\" xlink:href=\"#DejaVuSans-97\"/>\r\n     <use x=\"774.015625\" xlink:href=\"#DejaVuSans-116\"/>\r\n     <use x=\"813.224609\" xlink:href=\"#DejaVuSans-105\"/>\r\n     <use x=\"841.007812\" xlink:href=\"#DejaVuSans-111\"/>\r\n     <use x=\"902.189453\" xlink:href=\"#DejaVuSans-110\"/>\r\n     <use x=\"965.568359\" xlink:href=\"#DejaVuSans-32\"/>\r\n     <use x=\"997.355469\" xlink:href=\"#DejaVuSans-99\"/>\r\n     <use x=\"1052.335938\" xlink:href=\"#DejaVuSans-111\"/>\r\n     <use x=\"1113.517578\" xlink:href=\"#DejaVuSans-101\"/>\r\n     <use x=\"1175.041016\" xlink:href=\"#DejaVuSans-102\"/>\r\n     <use x=\"1210.246094\" xlink:href=\"#DejaVuSans-102\"/>\r\n     <use x=\"1245.451172\" xlink:href=\"#DejaVuSans-105\"/>\r\n     <use x=\"1273.234375\" xlink:href=\"#DejaVuSans-99\"/>\r\n     <use x=\"1328.214844\" xlink:href=\"#DejaVuSans-105\"/>\r\n     <use x=\"1355.998047\" xlink:href=\"#DejaVuSans-101\"/>\r\n     <use x=\"1417.521484\" xlink:href=\"#DejaVuSans-110\"/>\r\n     <use x=\"1480.900391\" xlink:href=\"#DejaVuSans-116\"/>\r\n     <use x=\"1520.109375\" xlink:href=\"#DejaVuSans-32\"/>\r\n     <use x=\"1551.896484\" xlink:href=\"#DejaVuSans-102\"/>\r\n     <use x=\"1587.101562\" xlink:href=\"#DejaVuSans-111\"/>\r\n     <use x=\"1648.283203\" xlink:href=\"#DejaVuSans-114\"/>\r\n     <use x=\"1689.396484\" xlink:href=\"#DejaVuSans-32\"/>\r\n     <use x=\"1721.183594\" xlink:href=\"#DejaVuSans-118\"/>\r\n     <use x=\"1780.363281\" xlink:href=\"#DejaVuSans-97\"/>\r\n     <use x=\"1841.642578\" xlink:href=\"#DejaVuSans-114\"/>\r\n     <use x=\"1882.755859\" xlink:href=\"#DejaVuSans-105\"/>\r\n     <use x=\"1910.539062\" xlink:href=\"#DejaVuSans-97\"/>\r\n     <use x=\"1971.818359\" xlink:href=\"#DejaVuSans-98\"/>\r\n     <use x=\"2035.294922\" xlink:href=\"#DejaVuSans-108\"/>\r\n     <use x=\"2063.078125\" xlink:href=\"#DejaVuSans-101\"/>\r\n     <use x=\"2124.601562\" xlink:href=\"#DejaVuSans-115\"/>\r\n     <use x=\"2176.701172\" xlink:href=\"#DejaVuSans-32\"/>\r\n     <use x=\"2208.488281\" xlink:href=\"#DejaVuSans-120\"/>\r\n     <use x=\"2267.667969\" xlink:href=\"#DejaVuSans-32\"/>\r\n     <use x=\"2299.455078\" xlink:href=\"#DejaVuSans-97\"/>\r\n     <use x=\"2360.734375\" xlink:href=\"#DejaVuSans-110\"/>\r\n     <use x=\"2424.113281\" xlink:href=\"#DejaVuSans-100\"/>\r\n     <use x=\"2487.589844\" xlink:href=\"#DejaVuSans-32\"/>\r\n     <use x=\"2519.376953\" xlink:href=\"#DejaVuSans-121\"/>\r\n     <use x=\"2578.556641\" xlink:href=\"#DejaVuSans-61\"/>\r\n     <use x=\"2662.345703\" xlink:href=\"#DejaVuSans-40\"/>\r\n     <use x=\"2701.359375\" xlink:href=\"#DejaVuSans-45\"/>\r\n     <use x=\"2737.443359\" xlink:href=\"#DejaVuSans-120\"/>\r\n     <use x=\"2796.623047\" xlink:href=\"#DejaVuSans-32\"/>\r\n     <use x=\"2828.410156\" xlink:href=\"#DejaVuSans-43\"/>\r\n     <use x=\"2912.199219\" xlink:href=\"#DejaVuSans-32\"/>\r\n     <use x=\"2943.986328\" xlink:href=\"#DejaVuSans-49\"/>\r\n     <use x=\"3007.609375\" xlink:href=\"#DejaVuSans-48\"/>\r\n     <use x=\"3071.232422\" xlink:href=\"#DejaVuSans-41\"/>\r\n     <use x=\"3110.246094\" xlink:href=\"#DejaVuSans-32\"/>\r\n     <use x=\"3142.033203\" xlink:href=\"#DejaVuSans-105\"/>\r\n     <use x=\"3169.816406\" xlink:href=\"#DejaVuSans-115\"/>\r\n     <use x=\"3221.916016\" xlink:href=\"#DejaVuSans-32\"/>\r\n     <use x=\"3253.703125\" xlink:href=\"#DejaVuSans-45\"/>\r\n     <use x=\"3289.787109\" xlink:href=\"#DejaVuSans-49\"/>\r\n     <use x=\"3353.410156\" xlink:href=\"#DejaVuSans-46\"/>\r\n     <use x=\"3385.197266\" xlink:href=\"#DejaVuSans-48\"/>\r\n     <use x=\"3448.820312\" xlink:href=\"#DejaVuSans-48\"/>\r\n     <use x=\"3512.443359\" xlink:href=\"#DejaVuSans-46\"/>\r\n     <use x=\"3544.230469\" xlink:href=\"#DejaVuSans-32\"/>\r\n     <use x=\"3576.017578\" xlink:href=\"#DejaVuSans-78\"/>\r\n     <use x=\"3650.822266\" xlink:href=\"#DejaVuSans-101\"/>\r\n     <use x=\"3712.345703\" xlink:href=\"#DejaVuSans-103\"/>\r\n     <use x=\"3775.822266\" xlink:href=\"#DejaVuSans-97\"/>\r\n     <use x=\"3837.101562\" xlink:href=\"#DejaVuSans-116\"/>\r\n     <use x=\"3876.310547\" xlink:href=\"#DejaVuSans-105\"/>\r\n     <use x=\"3904.09375\" xlink:href=\"#DejaVuSans-118\"/>\r\n     <use x=\"3963.273438\" xlink:href=\"#DejaVuSans-101\"/>\r\n     <use x=\"4024.796875\" xlink:href=\"#DejaVuSans-32\"/>\r\n     <use x=\"4056.583984\" xlink:href=\"#DejaVuSans-99\"/>\r\n     <use x=\"4111.564453\" xlink:href=\"#DejaVuSans-111\"/>\r\n     <use x=\"4172.746094\" xlink:href=\"#DejaVuSans-114\"/>\r\n     <use x=\"4212.109375\" xlink:href=\"#DejaVuSans-114\"/>\r\n     <use x=\"4250.972656\" xlink:href=\"#DejaVuSans-101\"/>\r\n     <use x=\"4312.496094\" xlink:href=\"#DejaVuSans-108\"/>\r\n     <use x=\"4340.279297\" xlink:href=\"#DejaVuSans-97\"/>\r\n     <use x=\"4401.558594\" xlink:href=\"#DejaVuSans-116\"/>\r\n     <use x=\"4440.767578\" xlink:href=\"#DejaVuSans-105\"/>\r\n     <use x=\"4468.550781\" xlink:href=\"#DejaVuSans-111\"/>\r\n     <use x=\"4529.732422\" xlink:href=\"#DejaVuSans-110\"/>\r\n     <use x=\"4593.111328\" xlink:href=\"#DejaVuSans-46\"/>\r\n    </g>\r\n   </g>\r\n  </g>\r\n  <g id=\"axes_2\">\r\n   <g id=\"patch_7\">\r\n    <path d=\"M 117.294375 239.758125 \r\nL 452.094375 239.758125 \r\nL 452.094375 167.278125 \r\nL 117.294375 167.278125 \r\nz\r\n\" style=\"fill:#ffffff;\"/>\r\n   </g>\r\n   <g id=\"PathCollection_2\">\r\n    <g clip-path=\"url(#p8992ae20c1)\">\r\n     <use style=\"fill:#1f77b4;stroke:#1f77b4;\" x=\"132.512557\" xlink:href=\"#m267fcc6301\" y=\"236.46358\"/>\r\n     <use style=\"fill:#1f77b4;stroke:#1f77b4;\" x=\"142.330739\" xlink:href=\"#m267fcc6301\" y=\"229.882659\"/>\r\n     <use style=\"fill:#1f77b4;stroke:#1f77b4;\" x=\"152.14892\" xlink:href=\"#m267fcc6301\" y=\"223.367493\"/>\r\n     <use style=\"fill:#1f77b4;stroke:#1f77b4;\" x=\"161.967102\" xlink:href=\"#m267fcc6301\" y=\"216.983178\"/>\r\n     <use style=\"fill:#1f77b4;stroke:#1f77b4;\" x=\"171.785284\" xlink:href=\"#m267fcc6301\" y=\"210.793505\"/>\r\n     <use style=\"fill:#1f77b4;stroke:#1f77b4;\" x=\"181.603466\" xlink:href=\"#m267fcc6301\" y=\"204.860319\"/>\r\n     <use style=\"fill:#1f77b4;stroke:#1f77b4;\" x=\"191.421648\" xlink:href=\"#m267fcc6301\" y=\"199.242903\"/>\r\n     <use style=\"fill:#1f77b4;stroke:#1f77b4;\" x=\"201.23983\" xlink:href=\"#m267fcc6301\" y=\"193.997383\"/>\r\n     <use style=\"fill:#1f77b4;stroke:#1f77b4;\" x=\"211.058011\" xlink:href=\"#m267fcc6301\" y=\"189.176171\"/>\r\n     <use style=\"fill:#1f77b4;stroke:#1f77b4;\" x=\"220.876193\" xlink:href=\"#m267fcc6301\" y=\"184.82744\"/>\r\n     <use style=\"fill:#1f77b4;stroke:#1f77b4;\" x=\"230.694375\" xlink:href=\"#m267fcc6301\" y=\"180.99464\"/>\r\n     <use style=\"fill:#1f77b4;stroke:#1f77b4;\" x=\"240.512557\" xlink:href=\"#m267fcc6301\" y=\"177.716067\"/>\r\n     <use style=\"fill:#1f77b4;stroke:#1f77b4;\" x=\"250.330739\" xlink:href=\"#m267fcc6301\" y=\"175.024479\"/>\r\n     <use style=\"fill:#1f77b4;stroke:#1f77b4;\" x=\"260.14892\" xlink:href=\"#m267fcc6301\" y=\"172.946771\"/>\r\n     <use style=\"fill:#1f77b4;stroke:#1f77b4;\" x=\"269.967102\" xlink:href=\"#m267fcc6301\" y=\"171.503702\"/>\r\n     <use style=\"fill:#1f77b4;stroke:#1f77b4;\" x=\"279.785284\" xlink:href=\"#m267fcc6301\" y=\"170.709691\"/>\r\n     <use style=\"fill:#1f77b4;stroke:#1f77b4;\" x=\"289.603466\" xlink:href=\"#m267fcc6301\" y=\"170.57267\"/>\r\n     <use style=\"fill:#1f77b4;stroke:#1f77b4;\" x=\"299.421648\" xlink:href=\"#m267fcc6301\" y=\"171.09401\"/>\r\n     <use style=\"fill:#1f77b4;stroke:#1f77b4;\" x=\"309.23983\" xlink:href=\"#m267fcc6301\" y=\"172.268501\"/>\r\n     <use style=\"fill:#1f77b4;stroke:#1f77b4;\" x=\"319.058011\" xlink:href=\"#m267fcc6301\" y=\"174.084408\"/>\r\n     <use style=\"fill:#1f77b4;stroke:#1f77b4;\" x=\"328.876193\" xlink:href=\"#m267fcc6301\" y=\"176.523587\"/>\r\n     <use style=\"fill:#1f77b4;stroke:#1f77b4;\" x=\"338.694375\" xlink:href=\"#m267fcc6301\" y=\"179.561667\"/>\r\n     <use style=\"fill:#1f77b4;stroke:#1f77b4;\" x=\"348.512557\" xlink:href=\"#m267fcc6301\" y=\"183.168292\"/>\r\n     <use style=\"fill:#1f77b4;stroke:#1f77b4;\" x=\"358.330739\" xlink:href=\"#m267fcc6301\" y=\"187.307425\"/>\r\n     <use style=\"fill:#1f77b4;stroke:#1f77b4;\" x=\"368.14892\" xlink:href=\"#m267fcc6301\" y=\"191.937711\"/>\r\n     <use style=\"fill:#1f77b4;stroke:#1f77b4;\" x=\"377.967102\" xlink:href=\"#m267fcc6301\" y=\"197.012884\"/>\r\n     <use style=\"fill:#1f77b4;stroke:#1f77b4;\" x=\"387.785284\" xlink:href=\"#m267fcc6301\" y=\"202.482236\"/>\r\n     <use style=\"fill:#1f77b4;stroke:#1f77b4;\" x=\"397.603466\" xlink:href=\"#m267fcc6301\" y=\"208.291118\"/>\r\n     <use style=\"fill:#1f77b4;stroke:#1f77b4;\" x=\"407.421648\" xlink:href=\"#m267fcc6301\" y=\"214.38149\"/>\r\n     <use style=\"fill:#1f77b4;stroke:#1f77b4;\" x=\"417.23983\" xlink:href=\"#m267fcc6301\" y=\"220.692499\"/>\r\n     <use style=\"fill:#1f77b4;stroke:#1f77b4;\" x=\"427.058011\" xlink:href=\"#m267fcc6301\" y=\"227.161087\"/>\r\n     <use style=\"fill:#1f77b4;stroke:#1f77b4;\" x=\"436.876193\" xlink:href=\"#m267fcc6301\" y=\"233.722623\"/>\r\n    </g>\r\n   </g>\r\n   <g id=\"matplotlib.axis_3\">\r\n    <g id=\"xtick_8\">\r\n     <g id=\"line2d_10\">\r\n      <g>\r\n       <use style=\"stroke:#000000;stroke-width:0.8;\" x=\"132.512557\" xlink:href=\"#mf16a0e54e1\" y=\"239.758125\"/>\r\n      </g>\r\n     </g>\r\n     <g id=\"text_13\">\r\n      <!-- 0.0 -->\r\n      <g transform=\"translate(124.560994 254.356562)scale(0.1 -0.1)\">\r\n       <use xlink:href=\"#DejaVuSans-48\"/>\r\n       <use x=\"63.623047\" xlink:href=\"#DejaVuSans-46\"/>\r\n       <use x=\"95.410156\" xlink:href=\"#DejaVuSans-48\"/>\r\n      </g>\r\n     </g>\r\n    </g>\r\n    <g id=\"xtick_9\">\r\n     <g id=\"line2d_11\">\r\n      <g>\r\n       <use style=\"stroke:#000000;stroke-width:0.8;\" x=\"181.603466\" xlink:href=\"#mf16a0e54e1\" y=\"239.758125\"/>\r\n      </g>\r\n     </g>\r\n     <g id=\"text_14\">\r\n      <!-- 0.5 -->\r\n      <g transform=\"translate(173.651903 254.356562)scale(0.1 -0.1)\">\r\n       <use xlink:href=\"#DejaVuSans-48\"/>\r\n       <use x=\"63.623047\" xlink:href=\"#DejaVuSans-46\"/>\r\n       <use x=\"95.410156\" xlink:href=\"#DejaVuSans-53\"/>\r\n      </g>\r\n     </g>\r\n    </g>\r\n    <g id=\"xtick_10\">\r\n     <g id=\"line2d_12\">\r\n      <g>\r\n       <use style=\"stroke:#000000;stroke-width:0.8;\" x=\"230.694375\" xlink:href=\"#mf16a0e54e1\" y=\"239.758125\"/>\r\n      </g>\r\n     </g>\r\n     <g id=\"text_15\">\r\n      <!-- 1.0 -->\r\n      <g transform=\"translate(222.742812 254.356562)scale(0.1 -0.1)\">\r\n       <use xlink:href=\"#DejaVuSans-49\"/>\r\n       <use x=\"63.623047\" xlink:href=\"#DejaVuSans-46\"/>\r\n       <use x=\"95.410156\" xlink:href=\"#DejaVuSans-48\"/>\r\n      </g>\r\n     </g>\r\n    </g>\r\n    <g id=\"xtick_11\">\r\n     <g id=\"line2d_13\">\r\n      <g>\r\n       <use style=\"stroke:#000000;stroke-width:0.8;\" x=\"279.785284\" xlink:href=\"#mf16a0e54e1\" y=\"239.758125\"/>\r\n      </g>\r\n     </g>\r\n     <g id=\"text_16\">\r\n      <!-- 1.5 -->\r\n      <g transform=\"translate(271.833722 254.356562)scale(0.1 -0.1)\">\r\n       <use xlink:href=\"#DejaVuSans-49\"/>\r\n       <use x=\"63.623047\" xlink:href=\"#DejaVuSans-46\"/>\r\n       <use x=\"95.410156\" xlink:href=\"#DejaVuSans-53\"/>\r\n      </g>\r\n     </g>\r\n    </g>\r\n    <g id=\"xtick_12\">\r\n     <g id=\"line2d_14\">\r\n      <g>\r\n       <use style=\"stroke:#000000;stroke-width:0.8;\" x=\"328.876193\" xlink:href=\"#mf16a0e54e1\" y=\"239.758125\"/>\r\n      </g>\r\n     </g>\r\n     <g id=\"text_17\">\r\n      <!-- 2.0 -->\r\n      <g transform=\"translate(320.924631 254.356562)scale(0.1 -0.1)\">\r\n       <use xlink:href=\"#DejaVuSans-50\"/>\r\n       <use x=\"63.623047\" xlink:href=\"#DejaVuSans-46\"/>\r\n       <use x=\"95.410156\" xlink:href=\"#DejaVuSans-48\"/>\r\n      </g>\r\n     </g>\r\n    </g>\r\n    <g id=\"xtick_13\">\r\n     <g id=\"line2d_15\">\r\n      <g>\r\n       <use style=\"stroke:#000000;stroke-width:0.8;\" x=\"377.967102\" xlink:href=\"#mf16a0e54e1\" y=\"239.758125\"/>\r\n      </g>\r\n     </g>\r\n     <g id=\"text_18\">\r\n      <!-- 2.5 -->\r\n      <g transform=\"translate(370.01554 254.356562)scale(0.1 -0.1)\">\r\n       <use xlink:href=\"#DejaVuSans-50\"/>\r\n       <use x=\"63.623047\" xlink:href=\"#DejaVuSans-46\"/>\r\n       <use x=\"95.410156\" xlink:href=\"#DejaVuSans-53\"/>\r\n      </g>\r\n     </g>\r\n    </g>\r\n    <g id=\"xtick_14\">\r\n     <g id=\"line2d_16\">\r\n      <g>\r\n       <use style=\"stroke:#000000;stroke-width:0.8;\" x=\"427.058011\" xlink:href=\"#mf16a0e54e1\" y=\"239.758125\"/>\r\n      </g>\r\n     </g>\r\n     <g id=\"text_19\">\r\n      <!-- 3.0 -->\r\n      <g transform=\"translate(419.106449 254.356562)scale(0.1 -0.1)\">\r\n       <use xlink:href=\"#DejaVuSans-51\"/>\r\n       <use x=\"63.623047\" xlink:href=\"#DejaVuSans-46\"/>\r\n       <use x=\"95.410156\" xlink:href=\"#DejaVuSans-48\"/>\r\n      </g>\r\n     </g>\r\n    </g>\r\n    <g id=\"text_20\">\r\n     <!-- X -->\r\n     <g transform=\"translate(281.269375 268.034687)scale(0.1 -0.1)\">\r\n      <use xlink:href=\"#DejaVuSans-88\"/>\r\n     </g>\r\n    </g>\r\n   </g>\r\n   <g id=\"matplotlib.axis_4\">\r\n    <g id=\"ytick_3\">\r\n     <g id=\"line2d_17\">\r\n      <g>\r\n       <use style=\"stroke:#000000;stroke-width:0.8;\" x=\"117.294375\" xlink:href=\"#m97242df3db\" y=\"236.46358\"/>\r\n      </g>\r\n     </g>\r\n     <g id=\"text_21\">\r\n      <!-- 0.0 -->\r\n      <g transform=\"translate(94.39125 240.262798)scale(0.1 -0.1)\">\r\n       <use xlink:href=\"#DejaVuSans-48\"/>\r\n       <use x=\"63.623047\" xlink:href=\"#DejaVuSans-46\"/>\r\n       <use x=\"95.410156\" xlink:href=\"#DejaVuSans-48\"/>\r\n      </g>\r\n     </g>\r\n    </g>\r\n    <g id=\"ytick_4\">\r\n     <g id=\"line2d_18\">\r\n      <g>\r\n       <use style=\"stroke:#000000;stroke-width:0.8;\" x=\"117.294375\" xlink:href=\"#m97242df3db\" y=\"203.504071\"/>\r\n      </g>\r\n     </g>\r\n     <g id=\"text_22\">\r\n      <!-- 0.5 -->\r\n      <g transform=\"translate(94.39125 207.30329)scale(0.1 -0.1)\">\r\n       <use xlink:href=\"#DejaVuSans-48\"/>\r\n       <use x=\"63.623047\" xlink:href=\"#DejaVuSans-46\"/>\r\n       <use x=\"95.410156\" xlink:href=\"#DejaVuSans-53\"/>\r\n      </g>\r\n     </g>\r\n    </g>\r\n    <g id=\"ytick_5\">\r\n     <g id=\"line2d_19\">\r\n      <g>\r\n       <use style=\"stroke:#000000;stroke-width:0.8;\" x=\"117.294375\" xlink:href=\"#m97242df3db\" y=\"170.544563\"/>\r\n      </g>\r\n     </g>\r\n     <g id=\"text_23\">\r\n      <!-- 1.0 -->\r\n      <g transform=\"translate(94.39125 174.343782)scale(0.1 -0.1)\">\r\n       <use xlink:href=\"#DejaVuSans-49\"/>\r\n       <use x=\"63.623047\" xlink:href=\"#DejaVuSans-46\"/>\r\n       <use x=\"95.410156\" xlink:href=\"#DejaVuSans-48\"/>\r\n      </g>\r\n     </g>\r\n    </g>\r\n    <g id=\"text_24\">\r\n     <!-- Y =sin(X) -->\r\n     <g transform=\"translate(88.311562 226.84)rotate(-90)scale(0.1 -0.1)\">\r\n      <use xlink:href=\"#DejaVuSans-89\"/>\r\n      <use x=\"61.083984\" xlink:href=\"#DejaVuSans-32\"/>\r\n      <use x=\"92.871094\" xlink:href=\"#DejaVuSans-61\"/>\r\n      <use x=\"176.660156\" xlink:href=\"#DejaVuSans-115\"/>\r\n      <use x=\"228.759766\" xlink:href=\"#DejaVuSans-105\"/>\r\n      <use x=\"256.542969\" xlink:href=\"#DejaVuSans-110\"/>\r\n      <use x=\"319.921875\" xlink:href=\"#DejaVuSans-40\"/>\r\n      <use x=\"358.935547\" xlink:href=\"#DejaVuSans-88\"/>\r\n      <use x=\"427.441406\" xlink:href=\"#DejaVuSans-41\"/>\r\n     </g>\r\n    </g>\r\n   </g>\r\n   <g id=\"patch_8\">\r\n    <path d=\"M 117.294375 239.758125 \r\nL 117.294375 167.278125 \r\n\" style=\"fill:none;stroke:#000000;stroke-linecap:square;stroke-linejoin:miter;stroke-width:0.8;\"/>\r\n   </g>\r\n   <g id=\"patch_9\">\r\n    <path d=\"M 452.094375 239.758125 \r\nL 452.094375 167.278125 \r\n\" style=\"fill:none;stroke:#000000;stroke-linecap:square;stroke-linejoin:miter;stroke-width:0.8;\"/>\r\n   </g>\r\n   <g id=\"patch_10\">\r\n    <path d=\"M 117.294375 239.758125 \r\nL 452.094375 239.758125 \r\n\" style=\"fill:none;stroke:#000000;stroke-linecap:square;stroke-linejoin:miter;stroke-width:0.8;\"/>\r\n   </g>\r\n   <g id=\"patch_11\">\r\n    <path d=\"M 117.294375 167.278125 \r\nL 452.094375 167.278125 \r\n\" style=\"fill:none;stroke:#000000;stroke-linecap:square;stroke-linejoin:miter;stroke-width:0.8;\"/>\r\n   </g>\r\n   <g id=\"text_25\">\r\n    <!-- Pearson correlation coefficient for variables x and y=sin(x) is 0.05. No correlation. -->\r\n    <g transform=\"translate(38.179688 161.278125)scale(0.12 -0.12)\">\r\n     <use xlink:href=\"#DejaVuSans-80\"/>\r\n     <use x=\"56.677734\" xlink:href=\"#DejaVuSans-101\"/>\r\n     <use x=\"118.201172\" xlink:href=\"#DejaVuSans-97\"/>\r\n     <use x=\"179.480469\" xlink:href=\"#DejaVuSans-114\"/>\r\n     <use x=\"220.59375\" xlink:href=\"#DejaVuSans-115\"/>\r\n     <use x=\"272.693359\" xlink:href=\"#DejaVuSans-111\"/>\r\n     <use x=\"333.875\" xlink:href=\"#DejaVuSans-110\"/>\r\n     <use x=\"397.253906\" xlink:href=\"#DejaVuSans-32\"/>\r\n     <use x=\"429.041016\" xlink:href=\"#DejaVuSans-99\"/>\r\n     <use x=\"484.021484\" xlink:href=\"#DejaVuSans-111\"/>\r\n     <use x=\"545.203125\" xlink:href=\"#DejaVuSans-114\"/>\r\n     <use x=\"584.566406\" xlink:href=\"#DejaVuSans-114\"/>\r\n     <use x=\"623.429688\" xlink:href=\"#DejaVuSans-101\"/>\r\n     <use x=\"684.953125\" xlink:href=\"#DejaVuSans-108\"/>\r\n     <use x=\"712.736328\" xlink:href=\"#DejaVuSans-97\"/>\r\n     <use x=\"774.015625\" xlink:href=\"#DejaVuSans-116\"/>\r\n     <use x=\"813.224609\" xlink:href=\"#DejaVuSans-105\"/>\r\n     <use x=\"841.007812\" xlink:href=\"#DejaVuSans-111\"/>\r\n     <use x=\"902.189453\" xlink:href=\"#DejaVuSans-110\"/>\r\n     <use x=\"965.568359\" xlink:href=\"#DejaVuSans-32\"/>\r\n     <use x=\"997.355469\" xlink:href=\"#DejaVuSans-99\"/>\r\n     <use x=\"1052.335938\" xlink:href=\"#DejaVuSans-111\"/>\r\n     <use x=\"1113.517578\" xlink:href=\"#DejaVuSans-101\"/>\r\n     <use x=\"1175.041016\" xlink:href=\"#DejaVuSans-102\"/>\r\n     <use x=\"1210.246094\" xlink:href=\"#DejaVuSans-102\"/>\r\n     <use x=\"1245.451172\" xlink:href=\"#DejaVuSans-105\"/>\r\n     <use x=\"1273.234375\" xlink:href=\"#DejaVuSans-99\"/>\r\n     <use x=\"1328.214844\" xlink:href=\"#DejaVuSans-105\"/>\r\n     <use x=\"1355.998047\" xlink:href=\"#DejaVuSans-101\"/>\r\n     <use x=\"1417.521484\" xlink:href=\"#DejaVuSans-110\"/>\r\n     <use x=\"1480.900391\" xlink:href=\"#DejaVuSans-116\"/>\r\n     <use x=\"1520.109375\" xlink:href=\"#DejaVuSans-32\"/>\r\n     <use x=\"1551.896484\" xlink:href=\"#DejaVuSans-102\"/>\r\n     <use x=\"1587.101562\" xlink:href=\"#DejaVuSans-111\"/>\r\n     <use x=\"1648.283203\" xlink:href=\"#DejaVuSans-114\"/>\r\n     <use x=\"1689.396484\" xlink:href=\"#DejaVuSans-32\"/>\r\n     <use x=\"1721.183594\" xlink:href=\"#DejaVuSans-118\"/>\r\n     <use x=\"1780.363281\" xlink:href=\"#DejaVuSans-97\"/>\r\n     <use x=\"1841.642578\" xlink:href=\"#DejaVuSans-114\"/>\r\n     <use x=\"1882.755859\" xlink:href=\"#DejaVuSans-105\"/>\r\n     <use x=\"1910.539062\" xlink:href=\"#DejaVuSans-97\"/>\r\n     <use x=\"1971.818359\" xlink:href=\"#DejaVuSans-98\"/>\r\n     <use x=\"2035.294922\" xlink:href=\"#DejaVuSans-108\"/>\r\n     <use x=\"2063.078125\" xlink:href=\"#DejaVuSans-101\"/>\r\n     <use x=\"2124.601562\" xlink:href=\"#DejaVuSans-115\"/>\r\n     <use x=\"2176.701172\" xlink:href=\"#DejaVuSans-32\"/>\r\n     <use x=\"2208.488281\" xlink:href=\"#DejaVuSans-120\"/>\r\n     <use x=\"2267.667969\" xlink:href=\"#DejaVuSans-32\"/>\r\n     <use x=\"2299.455078\" xlink:href=\"#DejaVuSans-97\"/>\r\n     <use x=\"2360.734375\" xlink:href=\"#DejaVuSans-110\"/>\r\n     <use x=\"2424.113281\" xlink:href=\"#DejaVuSans-100\"/>\r\n     <use x=\"2487.589844\" xlink:href=\"#DejaVuSans-32\"/>\r\n     <use x=\"2519.376953\" xlink:href=\"#DejaVuSans-121\"/>\r\n     <use x=\"2578.556641\" xlink:href=\"#DejaVuSans-61\"/>\r\n     <use x=\"2662.345703\" xlink:href=\"#DejaVuSans-115\"/>\r\n     <use x=\"2714.445312\" xlink:href=\"#DejaVuSans-105\"/>\r\n     <use x=\"2742.228516\" xlink:href=\"#DejaVuSans-110\"/>\r\n     <use x=\"2805.607422\" xlink:href=\"#DejaVuSans-40\"/>\r\n     <use x=\"2844.621094\" xlink:href=\"#DejaVuSans-120\"/>\r\n     <use x=\"2903.800781\" xlink:href=\"#DejaVuSans-41\"/>\r\n     <use x=\"2942.814453\" xlink:href=\"#DejaVuSans-32\"/>\r\n     <use x=\"2974.601562\" xlink:href=\"#DejaVuSans-105\"/>\r\n     <use x=\"3002.384766\" xlink:href=\"#DejaVuSans-115\"/>\r\n     <use x=\"3054.484375\" xlink:href=\"#DejaVuSans-32\"/>\r\n     <use x=\"3086.271484\" xlink:href=\"#DejaVuSans-48\"/>\r\n     <use x=\"3149.894531\" xlink:href=\"#DejaVuSans-46\"/>\r\n     <use x=\"3181.681641\" xlink:href=\"#DejaVuSans-48\"/>\r\n     <use x=\"3245.304688\" xlink:href=\"#DejaVuSans-53\"/>\r\n     <use x=\"3308.927734\" xlink:href=\"#DejaVuSans-46\"/>\r\n     <use x=\"3340.714844\" xlink:href=\"#DejaVuSans-32\"/>\r\n     <use x=\"3372.501953\" xlink:href=\"#DejaVuSans-78\"/>\r\n     <use x=\"3447.306641\" xlink:href=\"#DejaVuSans-111\"/>\r\n     <use x=\"3508.488281\" xlink:href=\"#DejaVuSans-32\"/>\r\n     <use x=\"3540.275391\" xlink:href=\"#DejaVuSans-99\"/>\r\n     <use x=\"3595.255859\" xlink:href=\"#DejaVuSans-111\"/>\r\n     <use x=\"3656.4375\" xlink:href=\"#DejaVuSans-114\"/>\r\n     <use x=\"3695.800781\" xlink:href=\"#DejaVuSans-114\"/>\r\n     <use x=\"3734.664062\" xlink:href=\"#DejaVuSans-101\"/>\r\n     <use x=\"3796.1875\" xlink:href=\"#DejaVuSans-108\"/>\r\n     <use x=\"3823.970703\" xlink:href=\"#DejaVuSans-97\"/>\r\n     <use x=\"3885.25\" xlink:href=\"#DejaVuSans-116\"/>\r\n     <use x=\"3924.458984\" xlink:href=\"#DejaVuSans-105\"/>\r\n     <use x=\"3952.242188\" xlink:href=\"#DejaVuSans-111\"/>\r\n     <use x=\"4013.423828\" xlink:href=\"#DejaVuSans-110\"/>\r\n     <use x=\"4076.802734\" xlink:href=\"#DejaVuSans-46\"/>\r\n    </g>\r\n   </g>\r\n  </g>\r\n </g>\r\n <defs>\r\n  <clipPath id=\"p946ac243ca\">\r\n   <rect height=\"72.48\" width=\"334.8\" x=\"117.294375\" y=\"22.318125\"/>\r\n  </clipPath>\r\n  <clipPath id=\"p8992ae20c1\">\r\n   <rect height=\"72.48\" width=\"334.8\" x=\"117.294375\" y=\"167.278125\"/>\r\n  </clipPath>\r\n </defs>\r\n</svg>\r\n",
      "image/png": "[encoded data removed]"
     },
     "metadata": {
      "needs_background": "light"
     }
    }
   ],
   "source": [
    "# Just a short example\n",
    "import numpy as np\n",
    "import matplotlib.pyplot as plt\n",
    "%matplotlib inline\n",
    "\n",
    "x = np.array(np.arange(0, 314, 10)) / 100\n",
    "y1 = -x + 10\n",
    "y2 = np.sin(x)\n",
    "\n",
    "fig, (ax1, ax2) = plt.subplots(2, 1)\n",
    "ax1.scatter(x, -x + 10)\n",
    "ax1.set_title(\"Pearson correlation coefficient for variables x and y=(-x + 10) is %.2f. Negative correlation.\"\n",
    "      % np.corrcoef(x, y1)[0][1])\n",
    "ax1.set_xlabel(\"X\")\n",
    "ax1.set_ylabel(\"Y =-X + 10\")\n",
    "ax2.scatter(x, y2)\n",
    "ax2.set_title(\"Pearson correlation coefficient for variables x and y=sin(x) is %.2f. No correlation.\"\n",
    "      % np.corrcoef(x, y2)[0][1])\n",
    "ax2.set_xlabel(\"X\")\n",
    "ax2.set_ylabel(\"Y =sin(X)\")\n",
    "\n",
    "plt.subplots_adjust(hspace=1.0)\n",
    "plt.show()"
   ]
  },
  {
   "cell_type": "markdown",
   "metadata": {},
   "source": [
    "_Note 2_: Use Pandas _.corrcoef_  for calculating Pearson correlation https://pandas.pydata.org/pandas-docs/stable/reference/api/pandas.DataFrame.corr.html. Return list of sets of column name pairs by absolute correlation value in descending order. Return list of lists of column name pairs by absolute correlation value in descending order. Each pair of names should follow the alphabet order."
   ]
  },
  {
   "cell_type": "code",
   "execution_count": 14,
   "metadata": {},
   "outputs": [
    {
     "output_type": "execute_result",
     "data": {
      "text/plain": [
       "[['G2', 'G3'], ['G1', 'G2'], ['G1', 'G3'], ['Dalc', 'Walc'], ['Fedu', 'Medu']]"
      ]
     },
     "metadata": {},
     "execution_count": 14
    }
   ],
   "source": [
    "tmp = mat.drop(columns=['averageG']).corr().abs().unstack().sort_values(ascending=False).drop_duplicates().index.tolist()\n",
    "#make list\n",
    "tmp2 = list( map(lambda t : list(t), tmp) )\n",
    "tmp3 = list ( map( lambda a: sorted(a), tmp2 ) )\n",
    "tmp4 = tmp3[1:6]\n",
    "\n",
    "top5_correlations = tmp4\n",
    "top5_correlations"
   ]
  },
  {
   "cell_type": "markdown",
   "metadata": {},
   "source": [
    "**Task 10 (bonus no grading).** Plot 5 scatterplots showing relationship between most correlated pairs of variables from the previous task."
   ]
  },
  {
   "cell_type": "code",
   "execution_count": null,
   "metadata": {},
   "outputs": [],
   "source": []
  },
  {
   "cell_type": "markdown",
   "metadata": {},
   "source": [
    "### Warning! Do not change anything in this area."
   ]
  },
  {
   "cell_type": "code",
   "execution_count": 15,
   "metadata": {},
   "outputs": [],
   "source": [
    "with open('student_answers.txt', 'w') as file:\n",
    "    file.write(f\"{boys} {girls}\\n\")\n",
    "    file.write(f\"{students_17_year_old}\\n\")\n",
    "    file.write(f\"{boys_from_top_10}\\n\")\n",
    "    file.write(f\"{round(mean, 3)} {round(std, 3)}\\n\")\n",
    "    file.write(f\"{student_counts_for_each_age}\\n\")\n",
    "    file.write(f\"{father} {mother}\\n\")\n",
    "    file.write(f\"{both_present}\\n\")\n",
    "    file.write(f\"{round(GP_diff, 3)} {round(MS_diff, 3)}\\n\")\n",
    "    file.write(f\"{top5_correlations}\")"
   ]
  }
 ],
 "metadata": {
  "kernelspec": {
   "display_name": "Python 3",
   "language": "python",
   "name": "python3"
  },
  "language_info": {
   "codemirror_mode": {
    "name": "ipython",
    "version": 3
   },
   "file_extension": ".py",
   "mimetype": "text/x-python",
   "name": "python",
   "nbconvert_exporter": "python",
   "pygments_lexer": "ipython3",
   "version": "3.8.5-final"
  }
 },
 "nbformat": 4,
 "nbformat_minor": 4
}